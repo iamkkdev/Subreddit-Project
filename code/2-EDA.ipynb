{
 "cells": [
  {
   "cell_type": "code",
   "execution_count": 1,
   "id": "3504f380",
   "metadata": {},
   "outputs": [],
   "source": [
    "#Imports\n",
    "import pandas as pd\n",
    "import numpy as np\n",
    "import matplotlib.pyplot as plt\n",
    "import seaborn as sns\n",
    "\n",
    "import warnings\n",
    "warnings.filterwarnings('ignore')"
   ]
  },
  {
   "cell_type": "code",
   "execution_count": 2,
   "id": "8547aac5",
   "metadata": {},
   "outputs": [
    {
     "data": {
      "text/html": [
       "<div>\n",
       "<style scoped>\n",
       "    .dataframe tbody tr th:only-of-type {\n",
       "        vertical-align: middle;\n",
       "    }\n",
       "\n",
       "    .dataframe tbody tr th {\n",
       "        vertical-align: top;\n",
       "    }\n",
       "\n",
       "    .dataframe thead th {\n",
       "        text-align: right;\n",
       "    }\n",
       "</style>\n",
       "<table border=\"1\" class=\"dataframe\">\n",
       "  <thead>\n",
       "    <tr style=\"text-align: right;\">\n",
       "      <th></th>\n",
       "      <th>subreddit</th>\n",
       "      <th>selftext</th>\n",
       "      <th>author_fullname</th>\n",
       "      <th>gilded</th>\n",
       "      <th>title</th>\n",
       "      <th>link_flair_richtext</th>\n",
       "      <th>subreddit_name_prefixed</th>\n",
       "      <th>hidden</th>\n",
       "      <th>pwls</th>\n",
       "      <th>link_flair_css_class</th>\n",
       "      <th>...</th>\n",
       "      <th>media</th>\n",
       "      <th>is_video</th>\n",
       "      <th>retrieved_utc</th>\n",
       "      <th>updated_utc</th>\n",
       "      <th>utc_datetime_str</th>\n",
       "      <th>link_flair_template_id</th>\n",
       "      <th>post_hint</th>\n",
       "      <th>preview</th>\n",
       "      <th>author_cakeday</th>\n",
       "      <th>edited_on</th>\n",
       "    </tr>\n",
       "  </thead>\n",
       "  <tbody>\n",
       "    <tr>\n",
       "      <th>0</th>\n",
       "      <td>datingoverthirty</td>\n",
       "      <td>[removed]</td>\n",
       "      <td>t2_97llln5h</td>\n",
       "      <td>0</td>\n",
       "      <td>why is dating so fucking hard?</td>\n",
       "      <td>[]</td>\n",
       "      <td>r/datingoverthirty</td>\n",
       "      <td>False</td>\n",
       "      <td>6</td>\n",
       "      <td>NaN</td>\n",
       "      <td>...</td>\n",
       "      <td>NaN</td>\n",
       "      <td>False</td>\n",
       "      <td>1678102482</td>\n",
       "      <td>1678102483</td>\n",
       "      <td>2023-03-06 11:34:28</td>\n",
       "      <td>NaN</td>\n",
       "      <td>NaN</td>\n",
       "      <td>NaN</td>\n",
       "      <td>NaN</td>\n",
       "      <td>NaN</td>\n",
       "    </tr>\n",
       "    <tr>\n",
       "      <th>1</th>\n",
       "      <td>datingoverthirty</td>\n",
       "      <td>[removed]</td>\n",
       "      <td>t2_hineyex2</td>\n",
       "      <td>0</td>\n",
       "      <td>Trust Issues making me (30f) anxious around my...</td>\n",
       "      <td>[]</td>\n",
       "      <td>r/datingoverthirty</td>\n",
       "      <td>False</td>\n",
       "      <td>6</td>\n",
       "      <td>NaN</td>\n",
       "      <td>...</td>\n",
       "      <td>NaN</td>\n",
       "      <td>False</td>\n",
       "      <td>1678088068</td>\n",
       "      <td>1678088069</td>\n",
       "      <td>2023-03-06 07:34:13</td>\n",
       "      <td>NaN</td>\n",
       "      <td>NaN</td>\n",
       "      <td>NaN</td>\n",
       "      <td>NaN</td>\n",
       "      <td>NaN</td>\n",
       "    </tr>\n",
       "  </tbody>\n",
       "</table>\n",
       "<p>2 rows × 91 columns</p>\n",
       "</div>"
      ],
      "text/plain": [
       "          subreddit   selftext author_fullname  gilded  \\\n",
       "0  datingoverthirty  [removed]     t2_97llln5h       0   \n",
       "1  datingoverthirty  [removed]     t2_hineyex2       0   \n",
       "\n",
       "                                               title link_flair_richtext  \\\n",
       "0                     why is dating so fucking hard?                  []   \n",
       "1  Trust Issues making me (30f) anxious around my...                  []   \n",
       "\n",
       "  subreddit_name_prefixed  hidden  pwls link_flair_css_class  ...  media  \\\n",
       "0      r/datingoverthirty   False     6                  NaN  ...    NaN   \n",
       "1      r/datingoverthirty   False     6                  NaN  ...    NaN   \n",
       "\n",
       "   is_video  retrieved_utc  updated_utc     utc_datetime_str  \\\n",
       "0     False     1678102482   1678102483  2023-03-06 11:34:28   \n",
       "1     False     1678088068   1678088069  2023-03-06 07:34:13   \n",
       "\n",
       "   link_flair_template_id  post_hint preview  author_cakeday edited_on  \n",
       "0                     NaN        NaN     NaN             NaN       NaN  \n",
       "1                     NaN        NaN     NaN             NaN       NaN  \n",
       "\n",
       "[2 rows x 91 columns]"
      ]
     },
     "execution_count": 2,
     "metadata": {},
     "output_type": "execute_result"
    }
   ],
   "source": [
    "#importing data and looking at first few rows\n",
    "df_new = pd.read_csv('../data/cleaned.csv').drop('Unnamed: 0', axis = 1)\n",
    "df_new.head(2)"
   ]
  },
  {
   "cell_type": "code",
   "execution_count": 3,
   "id": "23d8e356",
   "metadata": {},
   "outputs": [
    {
     "data": {
      "text/plain": [
       "1"
      ]
     },
     "execution_count": 3,
     "metadata": {},
     "output_type": "execute_result"
    }
   ],
   "source": [
    "df_new['hidden'].nunique()"
   ]
  },
  {
   "cell_type": "code",
   "execution_count": 4,
   "id": "af0a7e26",
   "metadata": {},
   "outputs": [
    {
     "data": {
      "text/plain": [
       "False    16417\n",
       "True       245\n",
       "Name: stickied, dtype: int64"
      ]
     },
     "execution_count": 4,
     "metadata": {},
     "output_type": "execute_result"
    }
   ],
   "source": [
    "df_new['stickied'].value_counts()"
   ]
  },
  {
   "cell_type": "code",
   "execution_count": 5,
   "id": "30c481a6",
   "metadata": {},
   "outputs": [
    {
     "data": {
      "text/plain": [
       "subreddit                     0\n",
       "selftext                     42\n",
       "author_fullname              89\n",
       "gilded                        0\n",
       "title                         0\n",
       "                          ...  \n",
       "link_flair_template_id    13430\n",
       "post_hint                 15914\n",
       "preview                   15914\n",
       "author_cakeday            16584\n",
       "edited_on                 16622\n",
       "Length: 91, dtype: int64"
      ]
     },
     "execution_count": 5,
     "metadata": {},
     "output_type": "execute_result"
    }
   ],
   "source": [
    "df_new.isnull().sum()"
   ]
  },
  {
   "cell_type": "code",
   "execution_count": 6,
   "id": "0475b2ea",
   "metadata": {},
   "outputs": [
    {
     "data": {
      "text/html": [
       "<div>\n",
       "<style scoped>\n",
       "    .dataframe tbody tr th:only-of-type {\n",
       "        vertical-align: middle;\n",
       "    }\n",
       "\n",
       "    .dataframe tbody tr th {\n",
       "        vertical-align: top;\n",
       "    }\n",
       "\n",
       "    .dataframe thead th {\n",
       "        text-align: right;\n",
       "    }\n",
       "</style>\n",
       "<table border=\"1\" class=\"dataframe\">\n",
       "  <thead>\n",
       "    <tr style=\"text-align: right;\">\n",
       "      <th></th>\n",
       "      <th>subreddit</th>\n",
       "      <th>title</th>\n",
       "    </tr>\n",
       "  </thead>\n",
       "  <tbody>\n",
       "    <tr>\n",
       "      <th>0</th>\n",
       "      <td>datingoverthirty</td>\n",
       "      <td>why is dating so fucking hard?</td>\n",
       "    </tr>\n",
       "    <tr>\n",
       "      <th>1</th>\n",
       "      <td>datingoverthirty</td>\n",
       "      <td>Trust Issues making me (30f) anxious around my...</td>\n",
       "    </tr>\n",
       "  </tbody>\n",
       "</table>\n",
       "</div>"
      ],
      "text/plain": [
       "          subreddit                                              title\n",
       "0  datingoverthirty                     why is dating so fucking hard?\n",
       "1  datingoverthirty  Trust Issues making me (30f) anxious around my..."
      ]
     },
     "execution_count": 6,
     "metadata": {},
     "output_type": "execute_result"
    }
   ],
   "source": [
    "#creating a new dataframe with subreddit and title columns\n",
    "df = df_new[['subreddit', 'title']]\n",
    "df.head(2)"
   ]
  },
  {
   "cell_type": "code",
   "execution_count": 7,
   "id": "4dfc2cb7",
   "metadata": {},
   "outputs": [],
   "source": [
    "#Creating a new column title length based on title\n",
    "df['title_length'] = [len(title) for title in df['title']]"
   ]
  },
  {
   "cell_type": "code",
   "execution_count": 8,
   "id": "30b30c44",
   "metadata": {},
   "outputs": [
    {
     "data": {
      "text/html": [
       "<div>\n",
       "<style scoped>\n",
       "    .dataframe tbody tr th:only-of-type {\n",
       "        vertical-align: middle;\n",
       "    }\n",
       "\n",
       "    .dataframe tbody tr th {\n",
       "        vertical-align: top;\n",
       "    }\n",
       "\n",
       "    .dataframe thead th {\n",
       "        text-align: right;\n",
       "    }\n",
       "</style>\n",
       "<table border=\"1\" class=\"dataframe\">\n",
       "  <thead>\n",
       "    <tr style=\"text-align: right;\">\n",
       "      <th></th>\n",
       "      <th>subreddit</th>\n",
       "      <th>title</th>\n",
       "      <th>title_length</th>\n",
       "    </tr>\n",
       "  </thead>\n",
       "  <tbody>\n",
       "    <tr>\n",
       "      <th>0</th>\n",
       "      <td>datingoverthirty</td>\n",
       "      <td>why is dating so fucking hard?</td>\n",
       "      <td>30</td>\n",
       "    </tr>\n",
       "    <tr>\n",
       "      <th>1</th>\n",
       "      <td>datingoverthirty</td>\n",
       "      <td>Trust Issues making me (30f) anxious around my...</td>\n",
       "      <td>55</td>\n",
       "    </tr>\n",
       "  </tbody>\n",
       "</table>\n",
       "</div>"
      ],
      "text/plain": [
       "          subreddit                                              title  \\\n",
       "0  datingoverthirty                     why is dating so fucking hard?   \n",
       "1  datingoverthirty  Trust Issues making me (30f) anxious around my...   \n",
       "\n",
       "   title_length  \n",
       "0            30  \n",
       "1            55  "
      ]
     },
     "execution_count": 8,
     "metadata": {},
     "output_type": "execute_result"
    }
   ],
   "source": [
    "df.head(2)"
   ]
  },
  {
   "cell_type": "code",
   "execution_count": 9,
   "id": "fd62cf42",
   "metadata": {},
   "outputs": [],
   "source": [
    "df['title_word_count'] = [len(word) for word in df['title'].str.split(\" \")]"
   ]
  },
  {
   "cell_type": "code",
   "execution_count": 10,
   "id": "88c25766",
   "metadata": {},
   "outputs": [
    {
     "data": {
      "text/html": [
       "<div>\n",
       "<style scoped>\n",
       "    .dataframe tbody tr th:only-of-type {\n",
       "        vertical-align: middle;\n",
       "    }\n",
       "\n",
       "    .dataframe tbody tr th {\n",
       "        vertical-align: top;\n",
       "    }\n",
       "\n",
       "    .dataframe thead th {\n",
       "        text-align: right;\n",
       "    }\n",
       "</style>\n",
       "<table border=\"1\" class=\"dataframe\">\n",
       "  <thead>\n",
       "    <tr style=\"text-align: right;\">\n",
       "      <th></th>\n",
       "      <th>subreddit</th>\n",
       "      <th>title</th>\n",
       "      <th>title_length</th>\n",
       "      <th>title_word_count</th>\n",
       "    </tr>\n",
       "  </thead>\n",
       "  <tbody>\n",
       "    <tr>\n",
       "      <th>0</th>\n",
       "      <td>datingoverthirty</td>\n",
       "      <td>why is dating so fucking hard?</td>\n",
       "      <td>30</td>\n",
       "      <td>6</td>\n",
       "    </tr>\n",
       "    <tr>\n",
       "      <th>1</th>\n",
       "      <td>datingoverthirty</td>\n",
       "      <td>Trust Issues making me (30f) anxious around my...</td>\n",
       "      <td>55</td>\n",
       "      <td>10</td>\n",
       "    </tr>\n",
       "  </tbody>\n",
       "</table>\n",
       "</div>"
      ],
      "text/plain": [
       "          subreddit                                              title  \\\n",
       "0  datingoverthirty                     why is dating so fucking hard?   \n",
       "1  datingoverthirty  Trust Issues making me (30f) anxious around my...   \n",
       "\n",
       "   title_length  title_word_count  \n",
       "0            30                 6  \n",
       "1            55                10  "
      ]
     },
     "execution_count": 10,
     "metadata": {},
     "output_type": "execute_result"
    }
   ],
   "source": [
    "df.head(2)"
   ]
  },
  {
   "cell_type": "code",
   "execution_count": 11,
   "id": "a5c05780",
   "metadata": {},
   "outputs": [
    {
     "data": {
      "text/plain": [
       "count    16662.000000\n",
       "mean        49.062838\n",
       "std         34.762318\n",
       "min          1.000000\n",
       "25%         25.000000\n",
       "50%         40.000000\n",
       "75%         63.000000\n",
       "max        308.000000\n",
       "Name: title_length, dtype: float64"
      ]
     },
     "execution_count": 11,
     "metadata": {},
     "output_type": "execute_result"
    }
   ],
   "source": [
    "df['title_length'].describe()"
   ]
  },
  {
   "cell_type": "code",
   "execution_count": 12,
   "id": "463d027e",
   "metadata": {},
   "outputs": [
    {
     "data": {
      "text/plain": [
       "count    16662.000000\n",
       "mean         9.089305\n",
       "std          6.693990\n",
       "min          1.000000\n",
       "25%          5.000000\n",
       "50%          7.000000\n",
       "75%         12.000000\n",
       "max         63.000000\n",
       "Name: title_word_count, dtype: float64"
      ]
     },
     "execution_count": 12,
     "metadata": {},
     "output_type": "execute_result"
    }
   ],
   "source": [
    "df['title_word_count'].describe()"
   ]
  },
  {
   "cell_type": "code",
   "execution_count": 13,
   "id": "524dacb2",
   "metadata": {},
   "outputs": [
    {
     "data": {
      "image/png": "[encoded data removed]",
      "text/plain": [
       "<Figure size 640x480 with 2 Axes>"
      ]
     },
     "metadata": {},
     "output_type": "display_data"
    }
   ],
   "source": [
    "sns.kdeplot(df['title_length'], df['title_word_count'],\n",
    "            n_levels = 10, shade = True, cbar = True, color = 'Orange')\n",
    "plt.xlabel(\"Title Length\")\n",
    "plt.ylabel(\"Word Count\")\n",
    "plt.title(\"Title Length vs Word Count\")\n",
    "plt.savefig('../images/kde.jpg');"
   ]
  },
  {
   "cell_type": "code",
   "execution_count": 14,
   "id": "fa625e47",
   "metadata": {},
   "outputs": [
    {
     "data": {
      "image/png": "[encoded data removed]",
      "text/plain": [
       "<Figure size 500x300 with 1 Axes>"
      ]
     },
     "metadata": {},
     "output_type": "display_data"
    }
   ],
   "source": [
    "plt.figure(figsize = (5,3))\n",
    "plt.hist(df['title_length'],bins = 30, color = 'orange',\n",
    "         edgecolor = 'black')\n",
    "plt.title(\"Distribution of Title Length\");"
   ]
  },
  {
   "cell_type": "markdown",
   "id": "c4792aa1",
   "metadata": {},
   "source": [
    "#### From the above plot we can see that the most of the title lengths fall between 10 and 70 and there are some outliers"
   ]
  },
  {
   "cell_type": "code",
   "execution_count": 15,
   "id": "6dfcf211",
   "metadata": {},
   "outputs": [
    {
     "data": {
      "image/png": "[encoded data removed]",
      "text/plain": [
       "<Figure size 500x300 with 1 Axes>"
      ]
     },
     "metadata": {},
     "output_type": "display_data"
    }
   ],
   "source": [
    "plt.figure(figsize = (5,3))\n",
    "plt.hist(df['title_word_count'],bins = 30, color = 'orange',\n",
    "         edgecolor = 'black')\n",
    "plt.title(\"Distribution of Word Counts\");"
   ]
  },
  {
   "cell_type": "markdown",
   "id": "40716406",
   "metadata": {},
   "source": [
    "#### We can see from above plot that most of the title word count fall between 2 and 10 and to be precise 75% of the word count is below 12"
   ]
  },
  {
   "cell_type": "code",
   "execution_count": 16,
   "id": "bbec5948",
   "metadata": {},
   "outputs": [
    {
     "data": {
      "image/png": "[encoded data removed]",
      "text/plain": [
       "<Figure size 600x600 with 3 Axes>"
      ]
     },
     "metadata": {},
     "output_type": "display_data"
    }
   ],
   "source": [
    "sns.set_style('darkgrid')\n",
    "g = sns.JointGrid(df['title_word_count'], df['title_length'])\n",
    "g.plot(sns.scatterplot, sns.histplot, color = 'orange')\n",
    "plt.xlabel(\"Title Length\")\n",
    "plt.ylabel(\"Word Count\");"
   ]
  },
  {
   "cell_type": "code",
   "execution_count": 17,
   "id": "b9d2203b",
   "metadata": {},
   "outputs": [
    {
     "data": {
      "text/html": [
       "<div>\n",
       "<style scoped>\n",
       "    .dataframe tbody tr th:only-of-type {\n",
       "        vertical-align: middle;\n",
       "    }\n",
       "\n",
       "    .dataframe tbody tr th {\n",
       "        vertical-align: top;\n",
       "    }\n",
       "\n",
       "    .dataframe thead th {\n",
       "        text-align: right;\n",
       "    }\n",
       "</style>\n",
       "<table border=\"1\" class=\"dataframe\">\n",
       "  <thead>\n",
       "    <tr style=\"text-align: right;\">\n",
       "      <th></th>\n",
       "      <th>subreddit</th>\n",
       "      <th>title</th>\n",
       "      <th>title_length</th>\n",
       "      <th>title_word_count</th>\n",
       "    </tr>\n",
       "  </thead>\n",
       "  <tbody>\n",
       "    <tr>\n",
       "      <th>58</th>\n",
       "      <td>datingoverthirty</td>\n",
       "      <td>Daily sticky thread for rants, raves, celebrat...</td>\n",
       "      <td>85</td>\n",
       "      <td>13</td>\n",
       "    </tr>\n",
       "    <tr>\n",
       "      <th>105</th>\n",
       "      <td>datingoverthirty</td>\n",
       "      <td>Daily sticky thread for rants, raves, celebrat...</td>\n",
       "      <td>85</td>\n",
       "      <td>13</td>\n",
       "    </tr>\n",
       "    <tr>\n",
       "      <th>157</th>\n",
       "      <td>datingoverthirty</td>\n",
       "      <td>Daily sticky thread for rants, raves, celebrat...</td>\n",
       "      <td>85</td>\n",
       "      <td>13</td>\n",
       "    </tr>\n",
       "    <tr>\n",
       "      <th>199</th>\n",
       "      <td>datingoverthirty</td>\n",
       "      <td>Daily sticky thread for rants, raves, celebrat...</td>\n",
       "      <td>85</td>\n",
       "      <td>13</td>\n",
       "    </tr>\n",
       "    <tr>\n",
       "      <th>204</th>\n",
       "      <td>datingoverthirty</td>\n",
       "      <td>I (30F) am looking for a responsible and polit...</td>\n",
       "      <td>85</td>\n",
       "      <td>17</td>\n",
       "    </tr>\n",
       "    <tr>\n",
       "      <th>...</th>\n",
       "      <td>...</td>\n",
       "      <td>...</td>\n",
       "      <td>...</td>\n",
       "      <td>...</td>\n",
       "    </tr>\n",
       "    <tr>\n",
       "      <th>16657</th>\n",
       "      <td>datingoverthirty</td>\n",
       "      <td>Anyone up for a D&amp;amp;M 30F?</td>\n",
       "      <td>28</td>\n",
       "      <td>6</td>\n",
       "    </tr>\n",
       "    <tr>\n",
       "      <th>16658</th>\n",
       "      <td>datingoverthirty</td>\n",
       "      <td>How do you enjoy the moment?</td>\n",
       "      <td>28</td>\n",
       "      <td>6</td>\n",
       "    </tr>\n",
       "    <tr>\n",
       "      <th>16659</th>\n",
       "      <td>datingoverthirty</td>\n",
       "      <td>Hello Everyone Looking for Someone</td>\n",
       "      <td>34</td>\n",
       "      <td>5</td>\n",
       "    </tr>\n",
       "    <tr>\n",
       "      <th>16660</th>\n",
       "      <td>datingoverthirty</td>\n",
       "      <td>[F4M] I'm new here. I wanna have some fun,chat...</td>\n",
       "      <td>149</td>\n",
       "      <td>28</td>\n",
       "    </tr>\n",
       "    <tr>\n",
       "      <th>16661</th>\n",
       "      <td>datingoverthirty</td>\n",
       "      <td>Blocking Culture -Why?</td>\n",
       "      <td>22</td>\n",
       "      <td>3</td>\n",
       "    </tr>\n",
       "  </tbody>\n",
       "</table>\n",
       "<p>8996 rows × 4 columns</p>\n",
       "</div>"
      ],
      "text/plain": [
       "              subreddit                                              title  \\\n",
       "58     datingoverthirty  Daily sticky thread for rants, raves, celebrat...   \n",
       "105    datingoverthirty  Daily sticky thread for rants, raves, celebrat...   \n",
       "157    datingoverthirty  Daily sticky thread for rants, raves, celebrat...   \n",
       "199    datingoverthirty  Daily sticky thread for rants, raves, celebrat...   \n",
       "204    datingoverthirty  I (30F) am looking for a responsible and polit...   \n",
       "...                 ...                                                ...   \n",
       "16657  datingoverthirty                       Anyone up for a D&amp;M 30F?   \n",
       "16658  datingoverthirty                       How do you enjoy the moment?   \n",
       "16659  datingoverthirty                 Hello Everyone Looking for Someone   \n",
       "16660  datingoverthirty  [F4M] I'm new here. I wanna have some fun,chat...   \n",
       "16661  datingoverthirty                             Blocking Culture -Why?   \n",
       "\n",
       "       title_length  title_word_count  \n",
       "58               85                13  \n",
       "105              85                13  \n",
       "157              85                13  \n",
       "199              85                13  \n",
       "204              85                17  \n",
       "...             ...               ...  \n",
       "16657            28                 6  \n",
       "16658            28                 6  \n",
       "16659            34                 5  \n",
       "16660           149                28  \n",
       "16661            22                 3  \n",
       "\n",
       "[8996 rows x 4 columns]"
      ]
     },
     "execution_count": 17,
     "metadata": {},
     "output_type": "execute_result"
    }
   ],
   "source": [
    "#It appears that we have duplicates in our data\n",
    "df[df.duplicated(['title'])]"
   ]
  },
  {
   "cell_type": "code",
   "execution_count": 18,
   "id": "ff88ed5d",
   "metadata": {},
   "outputs": [
    {
     "data": {
      "text/plain": [
       "datingoverthirty    9235\n",
       "datingoverforty     7427\n",
       "Name: subreddit, dtype: int64"
      ]
     },
     "execution_count": 18,
     "metadata": {},
     "output_type": "execute_result"
    }
   ],
   "source": [
    "df['subreddit'].value_counts()"
   ]
  },
  {
   "cell_type": "code",
   "execution_count": 19,
   "id": "439bd8a2",
   "metadata": {},
   "outputs": [
    {
     "data": {
      "text/html": [
       "<div>\n",
       "<style scoped>\n",
       "    .dataframe tbody tr th:only-of-type {\n",
       "        vertical-align: middle;\n",
       "    }\n",
       "\n",
       "    .dataframe tbody tr th {\n",
       "        vertical-align: top;\n",
       "    }\n",
       "\n",
       "    .dataframe thead th {\n",
       "        text-align: right;\n",
       "    }\n",
       "</style>\n",
       "<table border=\"1\" class=\"dataframe\">\n",
       "  <thead>\n",
       "    <tr style=\"text-align: right;\">\n",
       "      <th></th>\n",
       "      <th>subreddit</th>\n",
       "      <th>title</th>\n",
       "      <th>title_length</th>\n",
       "      <th>title_word_count</th>\n",
       "    </tr>\n",
       "  </thead>\n",
       "  <tbody>\n",
       "    <tr>\n",
       "      <th>58</th>\n",
       "      <td>datingoverthirty</td>\n",
       "      <td>Daily sticky thread for rants, raves, celebrat...</td>\n",
       "      <td>85</td>\n",
       "      <td>13</td>\n",
       "    </tr>\n",
       "    <tr>\n",
       "      <th>105</th>\n",
       "      <td>datingoverthirty</td>\n",
       "      <td>Daily sticky thread for rants, raves, celebrat...</td>\n",
       "      <td>85</td>\n",
       "      <td>13</td>\n",
       "    </tr>\n",
       "    <tr>\n",
       "      <th>157</th>\n",
       "      <td>datingoverthirty</td>\n",
       "      <td>Daily sticky thread for rants, raves, celebrat...</td>\n",
       "      <td>85</td>\n",
       "      <td>13</td>\n",
       "    </tr>\n",
       "    <tr>\n",
       "      <th>199</th>\n",
       "      <td>datingoverthirty</td>\n",
       "      <td>Daily sticky thread for rants, raves, celebrat...</td>\n",
       "      <td>85</td>\n",
       "      <td>13</td>\n",
       "    </tr>\n",
       "    <tr>\n",
       "      <th>204</th>\n",
       "      <td>datingoverthirty</td>\n",
       "      <td>I (30F) am looking for a responsible and polit...</td>\n",
       "      <td>85</td>\n",
       "      <td>17</td>\n",
       "    </tr>\n",
       "    <tr>\n",
       "      <th>...</th>\n",
       "      <td>...</td>\n",
       "      <td>...</td>\n",
       "      <td>...</td>\n",
       "      <td>...</td>\n",
       "    </tr>\n",
       "    <tr>\n",
       "      <th>16657</th>\n",
       "      <td>datingoverthirty</td>\n",
       "      <td>Anyone up for a D&amp;amp;M 30F?</td>\n",
       "      <td>28</td>\n",
       "      <td>6</td>\n",
       "    </tr>\n",
       "    <tr>\n",
       "      <th>16658</th>\n",
       "      <td>datingoverthirty</td>\n",
       "      <td>How do you enjoy the moment?</td>\n",
       "      <td>28</td>\n",
       "      <td>6</td>\n",
       "    </tr>\n",
       "    <tr>\n",
       "      <th>16659</th>\n",
       "      <td>datingoverthirty</td>\n",
       "      <td>Hello Everyone Looking for Someone</td>\n",
       "      <td>34</td>\n",
       "      <td>5</td>\n",
       "    </tr>\n",
       "    <tr>\n",
       "      <th>16660</th>\n",
       "      <td>datingoverthirty</td>\n",
       "      <td>[F4M] I'm new here. I wanna have some fun,chat...</td>\n",
       "      <td>149</td>\n",
       "      <td>28</td>\n",
       "    </tr>\n",
       "    <tr>\n",
       "      <th>16661</th>\n",
       "      <td>datingoverthirty</td>\n",
       "      <td>Blocking Culture -Why?</td>\n",
       "      <td>22</td>\n",
       "      <td>3</td>\n",
       "    </tr>\n",
       "  </tbody>\n",
       "</table>\n",
       "<p>8996 rows × 4 columns</p>\n",
       "</div>"
      ],
      "text/plain": [
       "              subreddit                                              title  \\\n",
       "58     datingoverthirty  Daily sticky thread for rants, raves, celebrat...   \n",
       "105    datingoverthirty  Daily sticky thread for rants, raves, celebrat...   \n",
       "157    datingoverthirty  Daily sticky thread for rants, raves, celebrat...   \n",
       "199    datingoverthirty  Daily sticky thread for rants, raves, celebrat...   \n",
       "204    datingoverthirty  I (30F) am looking for a responsible and polit...   \n",
       "...                 ...                                                ...   \n",
       "16657  datingoverthirty                       Anyone up for a D&amp;M 30F?   \n",
       "16658  datingoverthirty                       How do you enjoy the moment?   \n",
       "16659  datingoverthirty                 Hello Everyone Looking for Someone   \n",
       "16660  datingoverthirty  [F4M] I'm new here. I wanna have some fun,chat...   \n",
       "16661  datingoverthirty                             Blocking Culture -Why?   \n",
       "\n",
       "       title_length  title_word_count  \n",
       "58               85                13  \n",
       "105              85                13  \n",
       "157              85                13  \n",
       "199              85                13  \n",
       "204              85                17  \n",
       "...             ...               ...  \n",
       "16657            28                 6  \n",
       "16658            28                 6  \n",
       "16659            34                 5  \n",
       "16660           149                28  \n",
       "16661            22                 3  \n",
       "\n",
       "[8996 rows x 4 columns]"
      ]
     },
     "execution_count": 19,
     "metadata": {},
     "output_type": "execute_result"
    }
   ],
   "source": [
    "#It appears that we have duplicates in our data\n",
    "df[df.duplicated(['title'])]"
   ]
  },
  {
   "cell_type": "markdown",
   "id": "9dbb73ad",
   "metadata": {},
   "source": [
    "#### We need to drop the duplicates otherwise we may misclassify the data"
   ]
  },
  {
   "cell_type": "code",
   "execution_count": 20,
   "id": "bb16a253",
   "metadata": {},
   "outputs": [],
   "source": [
    "#Dropping duplicates and creating a new dataset\n",
    "df1 = df.drop_duplicates(subset = ['title'] ,keep = 'first', ignore_index = False)"
   ]
  },
  {
   "cell_type": "code",
   "execution_count": 21,
   "id": "2ab2c231",
   "metadata": {},
   "outputs": [
    {
     "data": {
      "text/plain": [
       "datingoverthirty    5068\n",
       "datingoverforty     2598\n",
       "Name: subreddit, dtype: int64"
      ]
     },
     "execution_count": 21,
     "metadata": {},
     "output_type": "execute_result"
    }
   ],
   "source": [
    "df1['subreddit'].value_counts()"
   ]
  },
  {
   "cell_type": "code",
   "execution_count": 22,
   "id": "2cadad11",
   "metadata": {},
   "outputs": [
    {
     "data": {
      "image/png": "[encoded data removed]",
      "text/plain": [
       "<Figure size 640x480 with 1 Axes>"
      ]
     },
     "metadata": {},
     "output_type": "display_data"
    }
   ],
   "source": [
    "plt.hist(df1['title_length'],bins = 50, color = 'Gold', edgecolor = 'black')\n",
    "plt.title(\"Distribution of Title Length Without Duplicates\")\n",
    "plt.savefig('../images/distribution1.jpg');"
   ]
  },
  {
   "cell_type": "code",
   "execution_count": 23,
   "id": "219afafe",
   "metadata": {},
   "outputs": [
    {
     "data": {
      "image/png": "[encoded data removed]",
      "text/plain": [
       "<Figure size 640x480 with 1 Axes>"
      ]
     },
     "metadata": {},
     "output_type": "display_data"
    }
   ],
   "source": [
    "plt.hist(df1['title_word_count'],bins = 50, color = 'Gold', edgecolor = 'black')\n",
    "plt.title(\"Distribution of Word Counts No duplicates \")\n",
    "plt.savefig('../images/distribution2.jpg');"
   ]
  },
  {
   "cell_type": "markdown",
   "id": "da4543b0",
   "metadata": {},
   "source": [
    "#### Dropping duplicated did not affect our distribution"
   ]
  },
  {
   "cell_type": "code",
   "execution_count": 24,
   "id": "17f9f23c",
   "metadata": {},
   "outputs": [],
   "source": [
    "#making separate datasets for further data exploration\n",
    "dot = df1[df1['subreddit'] == 'datingoverthirty']"
   ]
  },
  {
   "cell_type": "code",
   "execution_count": 25,
   "id": "2e6b1070",
   "metadata": {},
   "outputs": [
    {
     "data": {
      "text/html": [
       "<div>\n",
       "<style scoped>\n",
       "    .dataframe tbody tr th:only-of-type {\n",
       "        vertical-align: middle;\n",
       "    }\n",
       "\n",
       "    .dataframe tbody tr th {\n",
       "        vertical-align: top;\n",
       "    }\n",
       "\n",
       "    .dataframe thead th {\n",
       "        text-align: right;\n",
       "    }\n",
       "</style>\n",
       "<table border=\"1\" class=\"dataframe\">\n",
       "  <thead>\n",
       "    <tr style=\"text-align: right;\">\n",
       "      <th></th>\n",
       "      <th>title_length</th>\n",
       "      <th>title_word_count</th>\n",
       "    </tr>\n",
       "  </thead>\n",
       "  <tbody>\n",
       "    <tr>\n",
       "      <th>count</th>\n",
       "      <td>5068.000000</td>\n",
       "      <td>5068.000000</td>\n",
       "    </tr>\n",
       "    <tr>\n",
       "      <th>mean</th>\n",
       "      <td>51.782163</td>\n",
       "      <td>9.675809</td>\n",
       "    </tr>\n",
       "    <tr>\n",
       "      <th>std</th>\n",
       "      <td>35.140687</td>\n",
       "      <td>6.787978</td>\n",
       "    </tr>\n",
       "    <tr>\n",
       "      <th>min</th>\n",
       "      <td>1.000000</td>\n",
       "      <td>1.000000</td>\n",
       "    </tr>\n",
       "    <tr>\n",
       "      <th>25%</th>\n",
       "      <td>28.000000</td>\n",
       "      <td>5.000000</td>\n",
       "    </tr>\n",
       "    <tr>\n",
       "      <th>50%</th>\n",
       "      <td>44.000000</td>\n",
       "      <td>8.000000</td>\n",
       "    </tr>\n",
       "    <tr>\n",
       "      <th>75%</th>\n",
       "      <td>66.250000</td>\n",
       "      <td>13.000000</td>\n",
       "    </tr>\n",
       "    <tr>\n",
       "      <th>max</th>\n",
       "      <td>308.000000</td>\n",
       "      <td>63.000000</td>\n",
       "    </tr>\n",
       "  </tbody>\n",
       "</table>\n",
       "</div>"
      ],
      "text/plain": [
       "       title_length  title_word_count\n",
       "count   5068.000000       5068.000000\n",
       "mean      51.782163          9.675809\n",
       "std       35.140687          6.787978\n",
       "min        1.000000          1.000000\n",
       "25%       28.000000          5.000000\n",
       "50%       44.000000          8.000000\n",
       "75%       66.250000         13.000000\n",
       "max      308.000000         63.000000"
      ]
     },
     "execution_count": 25,
     "metadata": {},
     "output_type": "execute_result"
    }
   ],
   "source": [
    "dot.describe()"
   ]
  },
  {
   "cell_type": "code",
   "execution_count": 26,
   "id": "516d3ada",
   "metadata": {},
   "outputs": [],
   "source": [
    "#Data over forty onlye\n",
    "dof = df1[df1['subreddit'] == 'datingoverforty']"
   ]
  },
  {
   "cell_type": "code",
   "execution_count": 27,
   "id": "ded4ea83",
   "metadata": {},
   "outputs": [
    {
     "data": {
      "text/html": [
       "<div>\n",
       "<style scoped>\n",
       "    .dataframe tbody tr th:only-of-type {\n",
       "        vertical-align: middle;\n",
       "    }\n",
       "\n",
       "    .dataframe tbody tr th {\n",
       "        vertical-align: top;\n",
       "    }\n",
       "\n",
       "    .dataframe thead th {\n",
       "        text-align: right;\n",
       "    }\n",
       "</style>\n",
       "<table border=\"1\" class=\"dataframe\">\n",
       "  <thead>\n",
       "    <tr style=\"text-align: right;\">\n",
       "      <th></th>\n",
       "      <th>title_length</th>\n",
       "      <th>title_word_count</th>\n",
       "    </tr>\n",
       "  </thead>\n",
       "  <tbody>\n",
       "    <tr>\n",
       "      <th>count</th>\n",
       "      <td>2598.000000</td>\n",
       "      <td>2598.000000</td>\n",
       "    </tr>\n",
       "    <tr>\n",
       "      <th>mean</th>\n",
       "      <td>43.784450</td>\n",
       "      <td>8.109700</td>\n",
       "    </tr>\n",
       "    <tr>\n",
       "      <th>std</th>\n",
       "      <td>31.412721</td>\n",
       "      <td>6.028227</td>\n",
       "    </tr>\n",
       "    <tr>\n",
       "      <th>min</th>\n",
       "      <td>3.000000</td>\n",
       "      <td>1.000000</td>\n",
       "    </tr>\n",
       "    <tr>\n",
       "      <th>25%</th>\n",
       "      <td>23.000000</td>\n",
       "      <td>4.000000</td>\n",
       "    </tr>\n",
       "    <tr>\n",
       "      <th>50%</th>\n",
       "      <td>35.000000</td>\n",
       "      <td>6.000000</td>\n",
       "    </tr>\n",
       "    <tr>\n",
       "      <th>75%</th>\n",
       "      <td>55.000000</td>\n",
       "      <td>10.000000</td>\n",
       "    </tr>\n",
       "    <tr>\n",
       "      <th>max</th>\n",
       "      <td>243.000000</td>\n",
       "      <td>49.000000</td>\n",
       "    </tr>\n",
       "  </tbody>\n",
       "</table>\n",
       "</div>"
      ],
      "text/plain": [
       "       title_length  title_word_count\n",
       "count   2598.000000       2598.000000\n",
       "mean      43.784450          8.109700\n",
       "std       31.412721          6.028227\n",
       "min        3.000000          1.000000\n",
       "25%       23.000000          4.000000\n",
       "50%       35.000000          6.000000\n",
       "75%       55.000000         10.000000\n",
       "max      243.000000         49.000000"
      ]
     },
     "execution_count": 27,
     "metadata": {},
     "output_type": "execute_result"
    }
   ],
   "source": [
    "dof.describe()"
   ]
  },
  {
   "cell_type": "code",
   "execution_count": 28,
   "id": "1f61a090",
   "metadata": {},
   "outputs": [
    {
     "name": "stdout",
     "output_type": "stream",
     "text": [
      "The average title length for Dating over thirty : 51.78\n",
      "The average title length for Dating over forty : 43.78\n"
     ]
    }
   ],
   "source": [
    "print(f'The average title length for Dating over thirty : {round(dot[\"title_length\"].mean(),2)}')\n",
    "print(f'The average title length for Dating over forty : {round(dof[\"title_length\"].mean(),2)}')"
   ]
  },
  {
   "cell_type": "code",
   "execution_count": 29,
   "id": "8188a8c9",
   "metadata": {},
   "outputs": [
    {
     "name": "stdout",
     "output_type": "stream",
     "text": [
      "The average title word count for Dating over thirty : 9.68\n",
      "The average title word count for Dating over forty : 8.11\n"
     ]
    }
   ],
   "source": [
    "print(f'The average title word count for Dating over thirty : {round(dot[\"title_word_count\"].mean(),2)}')\n",
    "print(f'The average title word count for Dating over forty : {round(dof[\"title_word_count\"].mean(),2)}')"
   ]
  },
  {
   "cell_type": "markdown",
   "id": "b0ab9e25",
   "metadata": {},
   "source": [
    "#### We can clearly see the differences in length and word count between different groups"
   ]
  },
  {
   "cell_type": "code",
   "execution_count": 30,
   "id": "e408559c",
   "metadata": {},
   "outputs": [
    {
     "data": {
      "text/html": [
       "<div>\n",
       "<style scoped>\n",
       "    .dataframe tbody tr th:only-of-type {\n",
       "        vertical-align: middle;\n",
       "    }\n",
       "\n",
       "    .dataframe tbody tr th {\n",
       "        vertical-align: top;\n",
       "    }\n",
       "\n",
       "    .dataframe thead th {\n",
       "        text-align: right;\n",
       "    }\n",
       "</style>\n",
       "<table border=\"1\" class=\"dataframe\">\n",
       "  <thead>\n",
       "    <tr style=\"text-align: right;\">\n",
       "      <th></th>\n",
       "      <th>title</th>\n",
       "      <th>title_length</th>\n",
       "      <th>title_word_count</th>\n",
       "    </tr>\n",
       "  </thead>\n",
       "  <tbody>\n",
       "    <tr>\n",
       "      <th>10959</th>\n",
       "      <td>What dating advice would you give to your youn...</td>\n",
       "      <td>55</td>\n",
       "      <td>10</td>\n",
       "    </tr>\n",
       "    <tr>\n",
       "      <th>10960</th>\n",
       "      <td>Dating fulltime after 9 years, but still alone</td>\n",
       "      <td>46</td>\n",
       "      <td>8</td>\n",
       "    </tr>\n",
       "    <tr>\n",
       "      <th>10961</th>\n",
       "      <td>Does the desire to date or have a relationship...</td>\n",
       "      <td>84</td>\n",
       "      <td>16</td>\n",
       "    </tr>\n",
       "    <tr>\n",
       "      <th>10962</th>\n",
       "      <td>What to do, what to do...</td>\n",
       "      <td>25</td>\n",
       "      <td>6</td>\n",
       "    </tr>\n",
       "    <tr>\n",
       "      <th>10963</th>\n",
       "      <td>How hard it is to find a partner in 40’s</td>\n",
       "      <td>40</td>\n",
       "      <td>10</td>\n",
       "    </tr>\n",
       "  </tbody>\n",
       "</table>\n",
       "</div>"
      ],
      "text/plain": [
       "                                                   title  title_length  \\\n",
       "10959  What dating advice would you give to your youn...            55   \n",
       "10960     Dating fulltime after 9 years, but still alone            46   \n",
       "10961  Does the desire to date or have a relationship...            84   \n",
       "10962                          What to do, what to do...            25   \n",
       "10963           How hard it is to find a partner in 40’s            40   \n",
       "\n",
       "       title_word_count  \n",
       "10959                10  \n",
       "10960                 8  \n",
       "10961                16  \n",
       "10962                 6  \n",
       "10963                10  "
      ]
     },
     "execution_count": 30,
     "metadata": {},
     "output_type": "execute_result"
    }
   ],
   "source": [
    "df5 = df1.drop('subreddit', axis = 1)\n",
    "df5.tail()"
   ]
  },
  {
   "cell_type": "code",
   "execution_count": 31,
   "id": "e4ae2e66",
   "metadata": {},
   "outputs": [],
   "source": [
    "#Exporting data to CSV for modeling and classification\n",
    "df1.to_csv('../data/df1.csv')"
   ]
  },
  {
   "cell_type": "code",
   "execution_count": null,
   "id": "0030f88f",
   "metadata": {},
   "outputs": [],
   "source": []
  }
 ],
 "metadata": {
  "kernelspec": {
   "display_name": "Python 3 (ipykernel)",
   "language": "python",
   "name": "python3"
  },
  "language_info": {
   "codemirror_mode": {
    "name": "ipython",
    "version": 3
   },
   "file_extension": ".py",
   "mimetype": "text/x-python",
   "name": "python",
   "nbconvert_exporter": "python",
   "pygments_lexer": "ipython3",
   "version": "3.9.13"
  }
 },
 "nbformat": 4,
 "nbformat_minor": 5
}
