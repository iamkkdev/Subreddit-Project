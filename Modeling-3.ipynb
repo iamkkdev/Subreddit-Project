{
 "cells": [
  {
   "cell_type": "code",
   "execution_count": 1,
   "id": "4e9d2b4a",
   "metadata": {},
   "outputs": [],
   "source": [
    "# imports\n",
    "import warnings\n",
    "warnings.filterwarnings('ignore')\n",
    "\n",
    "import pandas as pd\n",
    "import numpy as np\n",
    "import matplotlib.pyplot as plt\n",
    "from sklearn.model_selection import train_test_split, GridSearchCV\n",
    "from sklearn.pipeline import Pipeline\n",
    "from sklearn.naive_bayes import MultinomialNB\n",
    "from sklearn.linear_model import LogisticRegression\n",
    "from sklearn.metrics import confusion_matrix, plot_confusion_matrix\n",
    "from sklearn.metrics import classification_report, accuracy_score\n",
    "from sklearn.metrics import precision_score, recall_score, f1_score, roc_auc_score\n",
    "\n",
    "from sklearn.svm import LinearSVC, SVC\n",
    "from sklearn.ensemble import AdaBoostClassifier, GradientBoostingClassifier\n",
    "from xgboost import XGBClassifier\n",
    "\n",
    "# Import CountVectorizer and TFIDFVectorizer from feature_extraction.text.\n",
    "from sklearn.feature_extraction.text import CountVectorizer, TfidfVectorizer"
   ]
  },
  {
   "cell_type": "code",
   "execution_count": 2,
   "id": "5abad565",
   "metadata": {},
   "outputs": [
    {
     "data": {
      "text/html": [
       "<div>\n",
       "<style scoped>\n",
       "    .dataframe tbody tr th:only-of-type {\n",
       "        vertical-align: middle;\n",
       "    }\n",
       "\n",
       "    .dataframe tbody tr th {\n",
       "        vertical-align: top;\n",
       "    }\n",
       "\n",
       "    .dataframe thead th {\n",
       "        text-align: right;\n",
       "    }\n",
       "</style>\n",
       "<table border=\"1\" class=\"dataframe\">\n",
       "  <thead>\n",
       "    <tr style=\"text-align: right;\">\n",
       "      <th></th>\n",
       "      <th>subreddit</th>\n",
       "      <th>title</th>\n",
       "      <th>title_length</th>\n",
       "      <th>title_word_count</th>\n",
       "    </tr>\n",
       "  </thead>\n",
       "  <tbody>\n",
       "    <tr>\n",
       "      <th>0</th>\n",
       "      <td>datingoverthirty</td>\n",
       "      <td>why is dating so fucking hard?</td>\n",
       "      <td>30</td>\n",
       "      <td>6</td>\n",
       "    </tr>\n",
       "    <tr>\n",
       "      <th>1</th>\n",
       "      <td>datingoverthirty</td>\n",
       "      <td>Trust Issues making me (30f) anxious around my...</td>\n",
       "      <td>55</td>\n",
       "      <td>10</td>\n",
       "    </tr>\n",
       "  </tbody>\n",
       "</table>\n",
       "</div>"
      ],
      "text/plain": [
       "          subreddit                                              title  \\\n",
       "0  datingoverthirty                     why is dating so fucking hard?   \n",
       "1  datingoverthirty  Trust Issues making me (30f) anxious around my...   \n",
       "\n",
       "   title_length  title_word_count  \n",
       "0            30                 6  \n",
       "1            55                10  "
      ]
     },
     "execution_count": 2,
     "metadata": {},
     "output_type": "execute_result"
    }
   ],
   "source": [
    "#importing data and looking at first few rows\n",
    "df1 = pd.read_csv('data/df1.csv').drop('Unnamed: 0', axis = 1)\n",
    "df1.head(2)"
   ]
  },
  {
   "cell_type": "code",
   "execution_count": 3,
   "id": "22014177",
   "metadata": {},
   "outputs": [],
   "source": [
    "#Converting the subreddit column to binary\n",
    "df1['subreddit'] = np.where(df1['subreddit'] == 'datingoverthirty',1,0)"
   ]
  },
  {
   "cell_type": "code",
   "execution_count": 4,
   "id": "25d8655e",
   "metadata": {},
   "outputs": [
    {
     "data": {
      "text/html": [
       "<div>\n",
       "<style scoped>\n",
       "    .dataframe tbody tr th:only-of-type {\n",
       "        vertical-align: middle;\n",
       "    }\n",
       "\n",
       "    .dataframe tbody tr th {\n",
       "        vertical-align: top;\n",
       "    }\n",
       "\n",
       "    .dataframe thead th {\n",
       "        text-align: right;\n",
       "    }\n",
       "</style>\n",
       "<table border=\"1\" class=\"dataframe\">\n",
       "  <thead>\n",
       "    <tr style=\"text-align: right;\">\n",
       "      <th></th>\n",
       "      <th>subreddit</th>\n",
       "      <th>title</th>\n",
       "      <th>title_length</th>\n",
       "      <th>title_word_count</th>\n",
       "    </tr>\n",
       "  </thead>\n",
       "  <tbody>\n",
       "    <tr>\n",
       "      <th>0</th>\n",
       "      <td>1</td>\n",
       "      <td>why is dating so fucking hard?</td>\n",
       "      <td>30</td>\n",
       "      <td>6</td>\n",
       "    </tr>\n",
       "    <tr>\n",
       "      <th>1</th>\n",
       "      <td>1</td>\n",
       "      <td>Trust Issues making me (30f) anxious around my...</td>\n",
       "      <td>55</td>\n",
       "      <td>10</td>\n",
       "    </tr>\n",
       "  </tbody>\n",
       "</table>\n",
       "</div>"
      ],
      "text/plain": [
       "   subreddit                                              title  title_length  \\\n",
       "0          1                     why is dating so fucking hard?            30   \n",
       "1          1  Trust Issues making me (30f) anxious around my...            55   \n",
       "\n",
       "   title_word_count  \n",
       "0                 6  \n",
       "1                10  "
      ]
     },
     "execution_count": 4,
     "metadata": {},
     "output_type": "execute_result"
    }
   ],
   "source": [
    "df1.head(2)"
   ]
  },
  {
   "cell_type": "code",
   "execution_count": 5,
   "id": "4a259db5",
   "metadata": {},
   "outputs": [],
   "source": [
    "X = df1['title']\n",
    "y = df1['subreddit']"
   ]
  },
  {
   "cell_type": "code",
   "execution_count": 6,
   "id": "2ca41e21",
   "metadata": {},
   "outputs": [
    {
     "data": {
      "text/plain": [
       "1    0.661101\n",
       "0    0.338899\n",
       "Name: subreddit, dtype: float64"
      ]
     },
     "execution_count": 6,
     "metadata": {},
     "output_type": "execute_result"
    }
   ],
   "source": [
    "#Baseline accuracy to compare if our model is better than null model\n",
    "y.value_counts(normalize = True)"
   ]
  },
  {
   "cell_type": "code",
   "execution_count": 7,
   "id": "ad36bf26",
   "metadata": {},
   "outputs": [],
   "source": [
    "# Split the data into the training and testing sets.\n",
    "X_train, X_test, y_train, y_test = train_test_split(X,\n",
    "                                                    y,\n",
    "                                                    test_size = 0.3,\n",
    "                                                    stratify=y,\n",
    "                                                    random_state=42)"
   ]
  },
  {
   "cell_type": "code",
   "execution_count": 8,
   "id": "e00cde8f",
   "metadata": {},
   "outputs": [
    {
     "name": "stdout",
     "output_type": "stream",
     "text": [
      "(5366, 4519)\n"
     ]
    }
   ],
   "source": [
    "#Instantiate a countervectorizer and transform\n",
    "cvec = CountVectorizer(stop_words = 'english')\n",
    "cvec.fit(X_train)\n",
    "X_train = cvec.transform(X_train)\n",
    "X_test = cvec.transform(X_test)\n",
    "print(X_train.shape)"
   ]
  },
  {
   "cell_type": "code",
   "execution_count": 9,
   "id": "cce70993",
   "metadata": {},
   "outputs": [],
   "source": [
    "#converting X_train to Dataframe to visualize it\n",
    "X_train_df = pd.DataFrame(X_train.todense(), \n",
    "                          columns=cvec.get_feature_names())"
   ]
  },
  {
   "cell_type": "code",
   "execution_count": 10,
   "id": "cb9548bc",
   "metadata": {},
   "outputs": [
    {
     "data": {
      "text/html": [
       "<div>\n",
       "<style scoped>\n",
       "    .dataframe tbody tr th:only-of-type {\n",
       "        vertical-align: middle;\n",
       "    }\n",
       "\n",
       "    .dataframe tbody tr th {\n",
       "        vertical-align: top;\n",
       "    }\n",
       "\n",
       "    .dataframe thead th {\n",
       "        text-align: right;\n",
       "    }\n",
       "</style>\n",
       "<table border=\"1\" class=\"dataframe\">\n",
       "  <thead>\n",
       "    <tr style=\"text-align: right;\">\n",
       "      <th></th>\n",
       "      <th>000</th>\n",
       "      <th>0562984145</th>\n",
       "      <th>10</th>\n",
       "      <th>100</th>\n",
       "      <th>100kms</th>\n",
       "      <th>101</th>\n",
       "      <th>11</th>\n",
       "      <th>12</th>\n",
       "      <th>13</th>\n",
       "      <th>14</th>\n",
       "      <th>...</th>\n",
       "      <th>zero</th>\n",
       "      <th>zest</th>\n",
       "      <th>zmf5vbxwu</th>\n",
       "      <th>zoeykelsie</th>\n",
       "      <th>zombie</th>\n",
       "      <th>zone</th>\n",
       "      <th>zoned</th>\n",
       "      <th>zoo</th>\n",
       "      <th>zroane_214</th>\n",
       "      <th>độc</th>\n",
       "    </tr>\n",
       "  </thead>\n",
       "  <tbody>\n",
       "    <tr>\n",
       "      <th>0</th>\n",
       "      <td>0</td>\n",
       "      <td>0</td>\n",
       "      <td>0</td>\n",
       "      <td>0</td>\n",
       "      <td>0</td>\n",
       "      <td>0</td>\n",
       "      <td>0</td>\n",
       "      <td>0</td>\n",
       "      <td>0</td>\n",
       "      <td>0</td>\n",
       "      <td>...</td>\n",
       "      <td>0</td>\n",
       "      <td>0</td>\n",
       "      <td>0</td>\n",
       "      <td>0</td>\n",
       "      <td>0</td>\n",
       "      <td>0</td>\n",
       "      <td>0</td>\n",
       "      <td>0</td>\n",
       "      <td>0</td>\n",
       "      <td>0</td>\n",
       "    </tr>\n",
       "    <tr>\n",
       "      <th>1</th>\n",
       "      <td>0</td>\n",
       "      <td>0</td>\n",
       "      <td>0</td>\n",
       "      <td>0</td>\n",
       "      <td>0</td>\n",
       "      <td>0</td>\n",
       "      <td>0</td>\n",
       "      <td>0</td>\n",
       "      <td>0</td>\n",
       "      <td>0</td>\n",
       "      <td>...</td>\n",
       "      <td>0</td>\n",
       "      <td>0</td>\n",
       "      <td>0</td>\n",
       "      <td>0</td>\n",
       "      <td>0</td>\n",
       "      <td>0</td>\n",
       "      <td>0</td>\n",
       "      <td>0</td>\n",
       "      <td>0</td>\n",
       "      <td>0</td>\n",
       "    </tr>\n",
       "    <tr>\n",
       "      <th>2</th>\n",
       "      <td>0</td>\n",
       "      <td>0</td>\n",
       "      <td>0</td>\n",
       "      <td>0</td>\n",
       "      <td>0</td>\n",
       "      <td>0</td>\n",
       "      <td>0</td>\n",
       "      <td>0</td>\n",
       "      <td>0</td>\n",
       "      <td>0</td>\n",
       "      <td>...</td>\n",
       "      <td>0</td>\n",
       "      <td>0</td>\n",
       "      <td>0</td>\n",
       "      <td>0</td>\n",
       "      <td>0</td>\n",
       "      <td>0</td>\n",
       "      <td>0</td>\n",
       "      <td>0</td>\n",
       "      <td>0</td>\n",
       "      <td>0</td>\n",
       "    </tr>\n",
       "  </tbody>\n",
       "</table>\n",
       "<p>3 rows × 4519 columns</p>\n",
       "</div>"
      ],
      "text/plain": [
       "   000  0562984145  10  100  100kms  101  11  12  13  14  ...  zero  zest  \\\n",
       "0    0           0   0    0       0    0   0   0   0   0  ...     0     0   \n",
       "1    0           0   0    0       0    0   0   0   0   0  ...     0     0   \n",
       "2    0           0   0    0       0    0   0   0   0   0  ...     0     0   \n",
       "\n",
       "   zmf5vbxwu  zoeykelsie  zombie  zone  zoned  zoo  zroane_214  độc  \n",
       "0          0           0       0     0      0    0           0    0  \n",
       "1          0           0       0     0      0    0           0    0  \n",
       "2          0           0       0     0      0    0           0    0  \n",
       "\n",
       "[3 rows x 4519 columns]"
      ]
     },
     "execution_count": 10,
     "metadata": {},
     "output_type": "execute_result"
    }
   ],
   "source": [
    "X_train_df.head(3)"
   ]
  },
  {
   "cell_type": "code",
   "execution_count": 62,
   "id": "9eb42a99",
   "metadata": {},
   "outputs": [
    {
     "data": {
      "image/png": "[encoded data removed]",
      "text/plain": [
       "<Figure size 500x300 with 1 Axes>"
      ]
     },
     "metadata": {},
     "output_type": "display_data"
    }
   ],
   "source": [
    "# Plot top occuring words\n",
    "plt.figure(figsize = (5,3))\n",
    "X_train_df.sum().sort_values(ascending = False).head(10).plot(kind = 'barh',\n",
    "                                                             color = 'orange',\n",
    "                                                             edgecolor = 'black')\n",
    "plt.title(\"Popular Words Among Dating Groups\");"
   ]
  },
  {
   "cell_type": "markdown",
   "id": "a708a357",
   "metadata": {},
   "source": [
    "#### It appears that some of the highly used words by the dating community are date, dating, relationship, advise, old, people, looking etc"
   ]
  },
  {
   "cell_type": "code",
   "execution_count": 12,
   "id": "1faa2143",
   "metadata": {},
   "outputs": [
    {
     "data": {
      "text/plain": [
       "4519"
      ]
     },
     "execution_count": 12,
     "metadata": {},
     "output_type": "execute_result"
    }
   ],
   "source": [
    "len(X_train_df.columns)"
   ]
  },
  {
   "cell_type": "code",
   "execution_count": 13,
   "id": "8a8168e8",
   "metadata": {},
   "outputs": [],
   "source": [
    "# Split the data into the training and testing sets.\n",
    "X_train, X_test, y_train, y_test = train_test_split(X,\n",
    "                                                    y,\n",
    "                                                    test_size = 0.3,\n",
    "                                                    stratify=y,\n",
    "                                                    random_state=42)"
   ]
  },
  {
   "cell_type": "code",
   "execution_count": 14,
   "id": "1d1c894c",
   "metadata": {},
   "outputs": [],
   "source": [
    "#Creating a Pipeline using a countervectorizer and Multinomial Naive \n",
    "#Bayes Classifier\n",
    "pipe = Pipeline([\n",
    "    ('cvec', CountVectorizer()),\n",
    "    ('nb', MultinomialNB())\n",
    "])"
   ]
  },
  {
   "cell_type": "code",
   "execution_count": 15,
   "id": "7fb140bc",
   "metadata": {},
   "outputs": [],
   "source": [
    "#Defining the params for our model\n",
    "pipe_params = {\n",
    "    'cvec__max_features': [500, 1000, 2_000, 3_000, 4_000, 5_000, 8_000],\n",
    "    'cvec__min_df': [2, 3],\n",
    "    'cvec__max_df': [.9, .95],\n",
    "    'cvec__ngram_range': [(1, 1), (1, 2), (2,2), (2,3)]\n",
    "}\n",
    "# Instantiate GridSearchCV.\n",
    "\n",
    "gs = GridSearchCV(pipe, # what object are we optimizing?\n",
    "                  param_grid = pipe_params, # what parameters values are we searching?\n",
    "                  cv = 5) # 5-fold cross-validation."
   ]
  },
  {
   "cell_type": "code",
   "execution_count": 16,
   "id": "61c7e76f",
   "metadata": {},
   "outputs": [
    {
     "data": {
      "text/plain": [
       "GridSearchCV(cv=5,\n",
       "             estimator=Pipeline(steps=[('cvec', CountVectorizer()),\n",
       "                                       ('nb', MultinomialNB())]),\n",
       "             param_grid={'cvec__max_df': [0.9, 0.95],\n",
       "                         'cvec__max_features': [500, 1000, 2000, 3000, 4000,\n",
       "                                                5000, 8000],\n",
       "                         'cvec__min_df': [2, 3],\n",
       "                         'cvec__ngram_range': [(1, 1), (1, 2), (2, 2), (2, 3)]})"
      ]
     },
     "execution_count": 16,
     "metadata": {},
     "output_type": "execute_result"
    }
   ],
   "source": [
    "#Fitting the model using the above parameters\n",
    "gs.fit(X_train, y_train)"
   ]
  },
  {
   "cell_type": "code",
   "execution_count": 17,
   "id": "4599f858",
   "metadata": {},
   "outputs": [
    {
     "name": "stdout",
     "output_type": "stream",
     "text": [
      "0.7743197912784197\n",
      "0.662608695652174\n"
     ]
    }
   ],
   "source": [
    "print(gs.score(X_train, y_train))\n",
    "print(gs.score(X_test, y_test))"
   ]
  },
  {
   "cell_type": "markdown",
   "id": "2817ad59",
   "metadata": {},
   "source": [
    "#### The model is performing well on the train data but not performing on the test data which means the data is overfitting "
   ]
  },
  {
   "cell_type": "code",
   "execution_count": 18,
   "id": "9b70a08c",
   "metadata": {},
   "outputs": [
    {
     "data": {
      "text/plain": [
       "{'cvec__max_df': 0.9,\n",
       " 'cvec__max_features': 3000,\n",
       " 'cvec__min_df': 2,\n",
       " 'cvec__ngram_range': (1, 1)}"
      ]
     },
     "execution_count": 18,
     "metadata": {},
     "output_type": "execute_result"
    }
   ],
   "source": [
    "gs.best_params_"
   ]
  },
  {
   "cell_type": "code",
   "execution_count": 19,
   "id": "8550f1d7",
   "metadata": {},
   "outputs": [
    {
     "data": {
      "image/png": "[encoded data removed]",
      "text/plain": [
       "<Figure size 640x480 with 2 Axes>"
      ]
     },
     "metadata": {},
     "output_type": "display_data"
    }
   ],
   "source": [
    "# Plotting a confusion matrix\n",
    "plot_confusion_matrix(gs, X_test, y_test, cmap='Blues', values_format='d');"
   ]
  },
  {
   "cell_type": "code",
   "execution_count": 20,
   "id": "f8b31821",
   "metadata": {},
   "outputs": [],
   "source": [
    "y_preds = gs.predict(X_test)"
   ]
  },
  {
   "cell_type": "code",
   "execution_count": 21,
   "id": "721c204e",
   "metadata": {},
   "outputs": [],
   "source": [
    "#Using TFIDF this time with the below params\n",
    "pipe_tvec = Pipeline([\n",
    "    ('tvec', TfidfVectorizer()),\n",
    "    ('nb', MultinomialNB())\n",
    "])\n",
    "\n",
    "pipe_tvec_params = {\n",
    "    'tvec__max_features': [2_000, 3_000, 4_000, 5_000],\n",
    "    'tvec__stop_words': [None, 'english'],\n",
    "    'tvec__ngram_range': [(1, 1), (1, 2), (2,3)]}"
   ]
  },
  {
   "cell_type": "code",
   "execution_count": 22,
   "id": "476bd8bb",
   "metadata": {},
   "outputs": [],
   "source": [
    "# Instantiate GridSearchCV.\n",
    "gs_tvec = GridSearchCV(pipe_tvec,\n",
    "                      param_grid = pipe_tvec_params,\n",
    "                      cv = 5)"
   ]
  },
  {
   "cell_type": "code",
   "execution_count": 23,
   "id": "15ff6023",
   "metadata": {},
   "outputs": [
    {
     "data": {
      "text/plain": [
       "GridSearchCV(cv=5,\n",
       "             estimator=Pipeline(steps=[('tvec', TfidfVectorizer()),\n",
       "                                       ('nb', MultinomialNB())]),\n",
       "             param_grid={'tvec__max_features': [2000, 3000, 4000, 5000],\n",
       "                         'tvec__ngram_range': [(1, 1), (1, 2), (2, 3)],\n",
       "                         'tvec__stop_words': [None, 'english']})"
      ]
     },
     "execution_count": 23,
     "metadata": {},
     "output_type": "execute_result"
    }
   ],
   "source": [
    "#Fitting the Model\n",
    "gs_tvec.fit(X_train, y_train)"
   ]
  },
  {
   "cell_type": "code",
   "execution_count": 24,
   "id": "77c80c26",
   "metadata": {},
   "outputs": [
    {
     "name": "stdout",
     "output_type": "stream",
     "text": [
      "Training Score TFIDF : 0.74\n",
      "Testing Score TFIDF : 0.67\n"
     ]
    }
   ],
   "source": [
    "print(f'Training Score TFIDF : {round(gs_tvec.score(X_train, y_train),2)}')\n",
    "print(f'Testing Score TFIDF : {round(gs_tvec.score(X_test, y_test),2)}')"
   ]
  },
  {
   "cell_type": "markdown",
   "id": "541db13b",
   "metadata": {},
   "source": [
    "#### The model appears to be overfitting a again, it could be because the data is imalanced and the model is leaning towards the over30 group because of the underrepresentation of the over40 group"
   ]
  },
  {
   "cell_type": "code",
   "execution_count": 25,
   "id": "0a88441f",
   "metadata": {},
   "outputs": [
    {
     "data": {
      "image/png": "[encoded data removed]",
      "text/plain": [
       "<Figure size 640x480 with 2 Axes>"
      ]
     },
     "metadata": {},
     "output_type": "display_data"
    }
   ],
   "source": [
    "# plotting confusion matrix for the above model\n",
    "plot_confusion_matrix(gs_tvec, X_test, y_test, cmap='Blues');"
   ]
  },
  {
   "cell_type": "markdown",
   "id": "b648050f",
   "metadata": {},
   "source": [
    "#### From the above confusion matrix we can see that the TFIDF model predicted more false positives than the previous Countervectorizer model"
   ]
  },
  {
   "cell_type": "code",
   "execution_count": 26,
   "id": "a9fdc689",
   "metadata": {},
   "outputs": [],
   "source": [
    "y_preds1 = gs_tvec.predict(X_test)"
   ]
  },
  {
   "cell_type": "code",
   "execution_count": 27,
   "id": "ec0b4149",
   "metadata": {},
   "outputs": [],
   "source": [
    "#Using SVM to classify\n",
    "# C values to GridSearch over\n",
    "pgrid = {\"C\": np.linspace(0.0001, 2, 10)}"
   ]
  },
  {
   "cell_type": "code",
   "execution_count": 28,
   "id": "ecb0fa1c",
   "metadata": {},
   "outputs": [],
   "source": [
    "svc = SVC(gamma=\"scale\")\n",
    "pgrid = {\n",
    "    'C' : np.linspace(0.0001, 5, 100),\n",
    "    'gamma' : [1, 0.1, 0.01, 0.001, 0.0001], \n",
    "    'kernel' : ['rbf']\n",
    "}"
   ]
  },
  {
   "cell_type": "code",
   "execution_count": 29,
   "id": "de9abfb6",
   "metadata": {},
   "outputs": [],
   "source": [
    "#Using TFIDF and Support Vector machines to classify\n",
    "pipe_tvec1 = Pipeline([\n",
    "    ('tvec', TfidfVectorizer()),\n",
    "    ('svc', SVC(gamma = \"scale\"))\n",
    "])\n",
    "\n",
    "pipe_tvec1_params = {\n",
    "    'tvec__max_features': [2_000, 3_000, 4_000, 5_000],\n",
    "    'tvec__stop_words': [None, 'english'],\n",
    "    'tvec__ngram_range': [(1, 1), (1, 2), (1,3), (2,2), (3,3)],\n",
    "    'svc__C': np.linspace(0.0001, 2, 10),\n",
    "    'svc__max_iter' : 10000\n",
    "}"
   ]
  },
  {
   "cell_type": "code",
   "execution_count": 30,
   "id": "69db9a0c",
   "metadata": {},
   "outputs": [
    {
     "data": {
      "text/plain": [
       "Pipeline(steps=[('tvec', TfidfVectorizer()), ('svc', SVC())])"
      ]
     },
     "execution_count": 30,
     "metadata": {},
     "output_type": "execute_result"
    }
   ],
   "source": [
    "#Fitting the model\n",
    "pipe_tvec1.fit(X_train, y_train)"
   ]
  },
  {
   "cell_type": "code",
   "execution_count": 31,
   "id": "95f34604",
   "metadata": {},
   "outputs": [
    {
     "name": "stdout",
     "output_type": "stream",
     "text": [
      "Training Score TFIDF SVM : 0.91\n",
      "Testing Score TFIDF SVM : 0.67\n"
     ]
    }
   ],
   "source": [
    "print(f'Training Score TFIDF SVM : {round(pipe_tvec1.score(X_train, y_train), 2)}')\n",
    "print(f'Testing Score TFIDF SVM : {round(pipe_tvec1.score(X_test, y_test), 2)}')"
   ]
  },
  {
   "cell_type": "code",
   "execution_count": 32,
   "id": "e2d86a2c",
   "metadata": {},
   "outputs": [
    {
     "data": {
      "image/png": "[encoded data removed]",
      "text/plain": [
       "<Figure size 640x480 with 2 Axes>"
      ]
     },
     "metadata": {},
     "output_type": "display_data"
    }
   ],
   "source": [
    "# plotting confusion matrix for the above model\n",
    "plot_confusion_matrix(pipe_tvec1, X_test, y_test, cmap='Blues');"
   ]
  },
  {
   "cell_type": "code",
   "execution_count": 33,
   "id": "c3e21b80",
   "metadata": {},
   "outputs": [
    {
     "data": {
      "text/plain": [
       "1    0.661101\n",
       "0    0.338899\n",
       "Name: subreddit, dtype: float64"
      ]
     },
     "execution_count": 33,
     "metadata": {},
     "output_type": "execute_result"
    }
   ],
   "source": [
    "y.value_counts(normalize = True)"
   ]
  },
  {
   "cell_type": "code",
   "execution_count": 34,
   "id": "f3c9c715",
   "metadata": {},
   "outputs": [],
   "source": [
    "y_pred2 = pipe_tvec1.predict(X)"
   ]
  },
  {
   "cell_type": "code",
   "execution_count": 35,
   "id": "a2b7f23d",
   "metadata": {},
   "outputs": [],
   "source": [
    "df1['y_pred2'] = y_pred2"
   ]
  },
  {
   "cell_type": "code",
   "execution_count": 36,
   "id": "efc07e49",
   "metadata": {},
   "outputs": [
    {
     "data": {
      "text/plain": [
       "1    0.803026\n",
       "0    0.196974\n",
       "Name: y_pred2, dtype: float64"
      ]
     },
     "execution_count": 36,
     "metadata": {},
     "output_type": "execute_result"
    }
   ],
   "source": [
    "df1['y_pred2'].value_counts(normalize = True)"
   ]
  },
  {
   "cell_type": "code",
   "execution_count": 37,
   "id": "35554dd1",
   "metadata": {},
   "outputs": [
    {
     "data": {
      "text/plain": [
       "0.8416384033394209"
      ]
     },
     "execution_count": 37,
     "metadata": {},
     "output_type": "execute_result"
    }
   ],
   "source": [
    "accuracy_score(y, y_pred2)"
   ]
  },
  {
   "cell_type": "code",
   "execution_count": 38,
   "id": "97899226",
   "metadata": {},
   "outputs": [],
   "source": [
    "#Creating a Pipeline with XGBoost Classifier\n",
    "pipe = Pipeline([\n",
    "    ('cvec', CountVectorizer()),\n",
    "    ('xgb', XGBClassifier())\n",
    "])"
   ]
  },
  {
   "cell_type": "code",
   "execution_count": 39,
   "id": "fa145e99",
   "metadata": {},
   "outputs": [],
   "source": [
    "pipe_params = {\n",
    "    'cvec__max_features': [500, 1000, 2_000, 3_000, 4_000, 5_000, 8_000],\n",
    "    'cvec__min_df': [2, 3],\n",
    "    'cvec__max_df': [.9, .95],\n",
    "    'cvec__ngram_range': [(1, 1), (1, 2)],\n",
    "    'xgb__n_estimators': [10, 100],\n",
    "    'xgb__max_depth': [None, 1, 2, 3]\n",
    "    \n",
    "}\n",
    "\n",
    "# Instantiate GridSearchCV.\n",
    "\n",
    "gs = GridSearchCV(pipe, # what object are we optimizing?\n",
    "                  param_grid = pipe_params,# what parameters values are we searching?\n",
    "                  cv = 5) # 5-fold cross-validation."
   ]
  },
  {
   "cell_type": "code",
   "execution_count": 40,
   "id": "f1632e7c",
   "metadata": {},
   "outputs": [
    {
     "data": {
      "text/plain": [
       "GridSearchCV(cv=5,\n",
       "             estimator=Pipeline(steps=[('cvec', CountVectorizer()),\n",
       "                                       ('xgb',\n",
       "                                        XGBClassifier(base_score=None,\n",
       "                                                      booster=None,\n",
       "                                                      callbacks=None,\n",
       "                                                      colsample_bylevel=None,\n",
       "                                                      colsample_bynode=None,\n",
       "                                                      colsample_bytree=None,\n",
       "                                                      early_stopping_rounds=None,\n",
       "                                                      enable_categorical=False,\n",
       "                                                      eval_metric=None,\n",
       "                                                      feature_types=None,\n",
       "                                                      gamma=None, gpu_id=None,\n",
       "                                                      grow_policy=None,\n",
       "                                                      importance_type=Non...\n",
       "                                                      min_child_weight=None,\n",
       "                                                      missing=nan,\n",
       "                                                      monotone_constraints=None,\n",
       "                                                      n_estimators=100,\n",
       "                                                      n_jobs=None,\n",
       "                                                      num_parallel_tree=None,\n",
       "                                                      predictor=None,\n",
       "                                                      random_state=None, ...))]),\n",
       "             param_grid={'cvec__max_df': [0.9, 0.95],\n",
       "                         'cvec__max_features': [500, 1000, 2000, 3000, 4000,\n",
       "                                                5000, 8000],\n",
       "                         'cvec__min_df': [2, 3],\n",
       "                         'cvec__ngram_range': [(1, 1), (1, 2)],\n",
       "                         'xgb__max_depth': [None, 1, 2, 3],\n",
       "                         'xgb__n_estimators': [10, 100]})"
      ]
     },
     "execution_count": 40,
     "metadata": {},
     "output_type": "execute_result"
    }
   ],
   "source": [
    "gs.fit(X_train, y_train)"
   ]
  },
  {
   "cell_type": "code",
   "execution_count": 52,
   "id": "98421667",
   "metadata": {},
   "outputs": [
    {
     "data": {
      "text/plain": [
       "0.7554975773387999"
      ]
     },
     "execution_count": 52,
     "metadata": {},
     "output_type": "execute_result"
    }
   ],
   "source": [
    "gs.score(X_train, y_train)"
   ]
  },
  {
   "cell_type": "code",
   "execution_count": 53,
   "id": "85f451fa",
   "metadata": {},
   "outputs": [
    {
     "data": {
      "text/plain": [
       "0.6660869565217391"
      ]
     },
     "execution_count": 53,
     "metadata": {},
     "output_type": "execute_result"
    }
   ],
   "source": [
    "gs.score(X_test, y_test)"
   ]
  },
  {
   "cell_type": "code",
   "execution_count": 43,
   "id": "ea056e3f",
   "metadata": {},
   "outputs": [
    {
     "data": {
      "image/png": "[encoded data removed]",
      "text/plain": [
       "<Figure size 640x480 with 2 Axes>"
      ]
     },
     "metadata": {},
     "output_type": "display_data"
    }
   ],
   "source": [
    "plot_confusion_matrix(gs, X_test, y_test, cmap='Blues' );"
   ]
  },
  {
   "cell_type": "code",
   "execution_count": 44,
   "id": "eae08a8f",
   "metadata": {},
   "outputs": [],
   "source": [
    "y_preds = gs.predict(X)"
   ]
  },
  {
   "cell_type": "code",
   "execution_count": 45,
   "id": "09e31c43",
   "metadata": {},
   "outputs": [],
   "source": [
    "df1['y_preds'] = y_preds"
   ]
  },
  {
   "cell_type": "code",
   "execution_count": 46,
   "id": "e37f0932",
   "metadata": {},
   "outputs": [
    {
     "data": {
      "text/plain": [
       "1    0.888338\n",
       "0    0.111662\n",
       "Name: y_preds, dtype: float64"
      ]
     },
     "execution_count": 46,
     "metadata": {},
     "output_type": "execute_result"
    }
   ],
   "source": [
    "df1['y_preds'].value_counts(normalize = True)"
   ]
  },
  {
   "cell_type": "code",
   "execution_count": 47,
   "id": "6fe5d72e",
   "metadata": {},
   "outputs": [
    {
     "data": {
      "text/plain": [
       "0.7286720584398644"
      ]
     },
     "execution_count": 47,
     "metadata": {},
     "output_type": "execute_result"
    }
   ],
   "source": [
    "accuracy_score(y, y_preds)"
   ]
  },
  {
   "cell_type": "code",
   "execution_count": 48,
   "id": "4fbb365d",
   "metadata": {},
   "outputs": [],
   "source": [
    "y_preds3 = gs.predict(X_test)"
   ]
  },
  {
   "cell_type": "code",
   "execution_count": 49,
   "id": "468c595c",
   "metadata": {},
   "outputs": [
    {
     "data": {
      "text/plain": [
       "0.9362261669953977"
      ]
     },
     "execution_count": 49,
     "metadata": {},
     "output_type": "execute_result"
    }
   ],
   "source": [
    "sensitivity = recall_score(y_test, y_preds3)\n",
    "sensitivity"
   ]
  },
  {
   "cell_type": "code",
   "execution_count": 50,
   "id": "201ffc60",
   "metadata": {},
   "outputs": [],
   "source": [
    "cm = confusion_matrix(y_test, y_preds3)"
   ]
  },
  {
   "cell_type": "code",
   "execution_count": 51,
   "id": "a91a8476",
   "metadata": {},
   "outputs": [
    {
     "name": "stdout",
     "output_type": "stream",
     "text": [
      "108 671 97 1424\n"
     ]
    }
   ],
   "source": [
    "tn, fp, fn, tp = cm.ravel()\n",
    "print(tn, fp,fn,tp)"
   ]
  },
  {
   "cell_type": "markdown",
   "id": "eda714d0",
   "metadata": {},
   "source": [
    "### Model Evaluation:\n",
    "\n",
    "#### Finally used a XGBoost Classifier, the training score came down compared to the SVM model, XGBoost is also overfitting like other models. The model identified True positives but failed to identify true negatives. Again the model is leaning towards the stronger group over30 as the data is imbalanced. "
   ]
  },
  {
   "cell_type": "markdown",
   "id": "dd475789",
   "metadata": {},
   "source": [
    "### Conclusion\n",
    "\n",
    "#### I've used four models to classify, firstly I used Countervectorizer with Naive Bayes Classifier, the model returned a training score of 0.77 and the testing score of 0.66. I then used Naive Bayes with TFIDF vecorizer, then I used two more models using support vector machine and xgboost classifier which returned the results below:\n",
    "\n",
    "\n",
    "#### Training Score Counter Vectorizer Naive Bayes : 0.77             \n",
    "#### Testing Score Counter Vectorizer Naive Bayes : 0.66\n",
    "\n",
    "\n",
    "#### Training Score TFIDF Naive Bayes : 0.74\n",
    "#### Testing Score TFIDF Naive Bayes : 0.67\n",
    "\n",
    "#### Training Score TFIDF SVM : 0.91\n",
    "#### Testing Score TFIDF SVM : 0.67\n",
    "\n",
    "#### Training Score CounterVectorizer, XGBoost Classifier : 0.75\n",
    "#### Training Score CounterVectorizer, XGBoost Classifier : 0.66\n",
    "\n",
    "\n",
    "\n",
    "#### All the models have more false positives except the one with Naive Bayes classifier using counter vectorizer, that model has less false positives than the other models but it has more false negatives. It is clear that the data is imbalanced. We need to find a way to balance the data by aquiring more data and analyzing emoji's and hashtags. The other reason why the models were not able to classify is because the vocaubulary used by both over30's and over40's is similar that is why it is important to find more data, balance the data and find clever ways like emoji's and hashtags to find the signals to differentiate.\n"
   ]
  }
 ],
 "metadata": {
  "kernelspec": {
   "display_name": "Python 3 (ipykernel)",
   "language": "python",
   "name": "python3"
  },
  "language_info": {
   "codemirror_mode": {
    "name": "ipython",
    "version": 3
   },
   "file_extension": ".py",
   "mimetype": "text/x-python",
   "name": "python",
   "nbconvert_exporter": "python",
   "pygments_lexer": "ipython3",
   "version": "3.9.13"
  }
 },
 "nbformat": 4,
 "nbformat_minor": 5
}
