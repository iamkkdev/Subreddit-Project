{
 "cells": [
  {
   "cell_type": "markdown",
   "id": "cbd85a6c",
   "metadata": {},
   "source": [
    "### Problem Statement\n",
    "\n",
    "#### I am a freelance Data Scientist, one of the entrepreneurs approached me and they want to start a Dating website targeting a particular age group, they gave me text from two subreddits and wanted me to classify the subreddits as reddit only gave them the text. They gave me the text and wanted me to classify if the text belongs to over 30 age group or over 40."
   ]
  },
  {
   "cell_type": "code",
   "execution_count": 1,
   "id": "9068a0fb",
   "metadata": {},
   "outputs": [],
   "source": [
    "import requests\n",
    "import pandas as pd\n",
    "from bs4 import BeautifulSoup\n",
    "from psaw import PushshiftAPI \n",
    "import datetime as dt"
   ]
  },
  {
   "cell_type": "code",
   "execution_count": 2,
   "id": "a03da0d0",
   "metadata": {},
   "outputs": [],
   "source": [
    "url = 'https://api.pushshift.io/reddit/search/submission'"
   ]
  },
  {
   "cell_type": "code",
   "execution_count": 3,
   "id": "1b7752f7",
   "metadata": {},
   "outputs": [
    {
     "name": "stdout",
     "output_type": "stream",
     "text": [
      "200\n"
     ]
    }
   ],
   "source": [
    "#Extracting Data\n",
    "params = {\n",
    "    'subreddit' : 'datingoverthirty',\n",
    "    'size' : 1000\n",
    "}\n",
    "res = requests.get(url, params)\n",
    "print(res.status_code)\n",
    "data = res.json()\n",
    "posts = data['data']"
   ]
  },
  {
   "cell_type": "code",
   "execution_count": 4,
   "id": "39718f76",
   "metadata": {},
   "outputs": [
    {
     "name": "stdout",
     "output_type": "stream",
     "text": [
      "200\n"
     ]
    }
   ],
   "source": [
    "#Extracting Data\n",
    "params1 = {\n",
    "    'subreddit' : 'datingoverthirty',\n",
    "    'size' : 1000,\n",
    "    'before': 1675882539\n",
    "}\n",
    "res1 = requests.get(url, params1)\n",
    "print(res1.status_code)\n",
    "data1 = res1.json()\n",
    "posts1 = data1['data']"
   ]
  },
  {
   "cell_type": "code",
   "execution_count": 5,
   "id": "f3dcdecc",
   "metadata": {},
   "outputs": [
    {
     "name": "stdout",
     "output_type": "stream",
     "text": [
      "Status Code 200\n",
      "Length 998\n"
     ]
    }
   ],
   "source": [
    "#Extracting Data\n",
    "params2 = {\n",
    "    'subreddit' : 'datingoverthirty',\n",
    "    'size' : 1000,\n",
    "    'before': 1673885715\n",
    "}\n",
    "res2 = requests.get(url, params2)\n",
    "print(f'Status Code {res2.status_code}')\n",
    "data2 = res2.json()\n",
    "posts2 = data2['data']\n",
    "print(f'Length {len(posts2)}')"
   ]
  },
  {
   "cell_type": "code",
   "execution_count": 6,
   "id": "ca9ea214",
   "metadata": {},
   "outputs": [
    {
     "name": "stdout",
     "output_type": "stream",
     "text": [
      "Status Code 200\n",
      "Length 1000\n"
     ]
    }
   ],
   "source": [
    "#Extracting Data\n",
    "params3 = {\n",
    "    'subreddit' : 'datingoverthirty',\n",
    "    'size' : 1000,\n",
    "    'before': 1671943832\n",
    "}\n",
    "res3 = requests.get(url, params3)\n",
    "print(f'Status Code {res3.status_code}')\n",
    "data3 = res3.json()\n",
    "posts3 = data3['data']\n",
    "print(f'Length {len(posts3)}')"
   ]
  },
  {
   "cell_type": "code",
   "execution_count": 7,
   "id": "3852a5d7",
   "metadata": {},
   "outputs": [
    {
     "name": "stdout",
     "output_type": "stream",
     "text": [
      "Status Code 200\n",
      "Length 1000\n"
     ]
    }
   ],
   "source": [
    "#Extracting Data\n",
    "params4 = {\n",
    "    'subreddit' : 'datingoverthirty',\n",
    "    'size' : 1000,\n",
    "    'before': 1669932672\n",
    "}\n",
    "res4 = requests.get(url, params4)\n",
    "print(f'Status Code {res4.status_code}')\n",
    "data4 = res4.json()\n",
    "posts4 = data4['data']\n",
    "print(f'Length {len(posts4)}')"
   ]
  },
  {
   "cell_type": "code",
   "execution_count": 8,
   "id": "d7bb4ed2",
   "metadata": {},
   "outputs": [
    {
     "name": "stdout",
     "output_type": "stream",
     "text": [
      "Status Code 200\n",
      "Length 248\n"
     ]
    }
   ],
   "source": [
    "#Extracting Data\n",
    "params5 = {\n",
    "    'subreddit' : 'datingoverthirty',\n",
    "    'size' : 1000,\n",
    "    'before': 1668023703\n",
    "}\n",
    "res5 = requests.get(url, params5)\n",
    "print(f'Status Code {res5.status_code}')\n",
    "data5 = res5.json()\n",
    "posts5 = data5['data']\n",
    "print(f'Length {len(posts5)}')"
   ]
  },
  {
   "cell_type": "code",
   "execution_count": 9,
   "id": "1b4536f7",
   "metadata": {},
   "outputs": [
    {
     "name": "stdout",
     "output_type": "stream",
     "text": [
      "Status Code 200\n",
      "Length 998\n"
     ]
    }
   ],
   "source": [
    "#Extracting Data\n",
    "params6 = {\n",
    "    'subreddit' : 'datingoverthirty',\n",
    "    'size' : 1000,\n",
    "    'after': 1675882552\n",
    "}\n",
    "res6 = requests.get(url, params6)\n",
    "print(f'Status Code {res6.status_code}')\n",
    "data6 = res6.json()\n",
    "posts6 = data6['data']\n",
    "print(f'Length {len(posts6)}')"
   ]
  },
  {
   "cell_type": "code",
   "execution_count": 10,
   "id": "0f134aba",
   "metadata": {},
   "outputs": [
    {
     "name": "stdout",
     "output_type": "stream",
     "text": [
      "Status Code 200\n",
      "Length 998\n"
     ]
    }
   ],
   "source": [
    "#Extracting Data\n",
    "params7 = {\n",
    "    'subreddit' : 'datingoverthirty',\n",
    "    'size' : 1000,\n",
    "    'after': 1675884008\n",
    "}\n",
    "res7 = requests.get(url, params7)\n",
    "print(f'Status Code {res7.status_code}')\n",
    "data7 = res7.json()\n",
    "posts7 = data7['data']\n",
    "print(f'Length {len(posts7)}')"
   ]
  },
  {
   "cell_type": "code",
   "execution_count": 11,
   "id": "9ce3f564",
   "metadata": {},
   "outputs": [
    {
     "name": "stdout",
     "output_type": "stream",
     "text": [
      "Status Code 200\n",
      "Length 998\n"
     ]
    }
   ],
   "source": [
    "#Extracting Data\n",
    "params8 = {\n",
    "    'subreddit' : 'datingoverthirty',\n",
    "    'size' : 1000,\n",
    "    'after': 1675885310\n",
    "}\n",
    "res8 = requests.get(url, params8)\n",
    "print(f'Status Code {res8.status_code}')\n",
    "data8 = res8.json()\n",
    "posts8 = data8['data']\n",
    "print(f'Length {len(posts8)}')"
   ]
  },
  {
   "cell_type": "code",
   "execution_count": 12,
   "id": "50b181d5",
   "metadata": {},
   "outputs": [
    {
     "data": {
      "text/plain": [
       "8237"
      ]
     },
     "execution_count": 12,
     "metadata": {},
     "output_type": "execute_result"
    }
   ],
   "source": [
    "#Combining Data\n",
    "over30 = posts+posts1+posts2+posts3+posts4+posts5+posts6+posts7+posts8\n",
    "len(over30)"
   ]
  },
  {
   "cell_type": "code",
   "execution_count": 13,
   "id": "53f2ed6e",
   "metadata": {},
   "outputs": [
    {
     "data": {
      "text/html": [
       "<div>\n",
       "<style scoped>\n",
       "    .dataframe tbody tr th:only-of-type {\n",
       "        vertical-align: middle;\n",
       "    }\n",
       "\n",
       "    .dataframe tbody tr th {\n",
       "        vertical-align: top;\n",
       "    }\n",
       "\n",
       "    .dataframe thead th {\n",
       "        text-align: right;\n",
       "    }\n",
       "</style>\n",
       "<table border=\"1\" class=\"dataframe\">\n",
       "  <thead>\n",
       "    <tr style=\"text-align: right;\">\n",
       "      <th></th>\n",
       "      <th>subreddit</th>\n",
       "      <th>selftext</th>\n",
       "      <th>author_fullname</th>\n",
       "      <th>gilded</th>\n",
       "      <th>title</th>\n",
       "      <th>link_flair_richtext</th>\n",
       "      <th>subreddit_name_prefixed</th>\n",
       "      <th>hidden</th>\n",
       "      <th>pwls</th>\n",
       "      <th>link_flair_css_class</th>\n",
       "      <th>...</th>\n",
       "      <th>media</th>\n",
       "      <th>is_video</th>\n",
       "      <th>retrieved_utc</th>\n",
       "      <th>updated_utc</th>\n",
       "      <th>utc_datetime_str</th>\n",
       "      <th>link_flair_template_id</th>\n",
       "      <th>post_hint</th>\n",
       "      <th>preview</th>\n",
       "      <th>author_cakeday</th>\n",
       "      <th>edited_on</th>\n",
       "    </tr>\n",
       "  </thead>\n",
       "  <tbody>\n",
       "    <tr>\n",
       "      <th>0</th>\n",
       "      <td>datingoverthirty</td>\n",
       "      <td>[removed]</td>\n",
       "      <td>t2_97llln5h</td>\n",
       "      <td>0</td>\n",
       "      <td>why is dating so fucking hard?</td>\n",
       "      <td>[]</td>\n",
       "      <td>r/datingoverthirty</td>\n",
       "      <td>False</td>\n",
       "      <td>6</td>\n",
       "      <td>None</td>\n",
       "      <td>...</td>\n",
       "      <td>None</td>\n",
       "      <td>False</td>\n",
       "      <td>1678102482</td>\n",
       "      <td>1678102483</td>\n",
       "      <td>2023-03-06 11:34:28</td>\n",
       "      <td>NaN</td>\n",
       "      <td>NaN</td>\n",
       "      <td>NaN</td>\n",
       "      <td>NaN</td>\n",
       "      <td>NaN</td>\n",
       "    </tr>\n",
       "    <tr>\n",
       "      <th>1</th>\n",
       "      <td>datingoverthirty</td>\n",
       "      <td>[removed]</td>\n",
       "      <td>t2_hineyex2</td>\n",
       "      <td>0</td>\n",
       "      <td>Trust Issues making me (30f) anxious around my...</td>\n",
       "      <td>[]</td>\n",
       "      <td>r/datingoverthirty</td>\n",
       "      <td>False</td>\n",
       "      <td>6</td>\n",
       "      <td>None</td>\n",
       "      <td>...</td>\n",
       "      <td>None</td>\n",
       "      <td>False</td>\n",
       "      <td>1678088068</td>\n",
       "      <td>1678088069</td>\n",
       "      <td>2023-03-06 07:34:13</td>\n",
       "      <td>NaN</td>\n",
       "      <td>NaN</td>\n",
       "      <td>NaN</td>\n",
       "      <td>NaN</td>\n",
       "      <td>NaN</td>\n",
       "    </tr>\n",
       "  </tbody>\n",
       "</table>\n",
       "<p>2 rows × 91 columns</p>\n",
       "</div>"
      ],
      "text/plain": [
       "          subreddit   selftext author_fullname  gilded  \\\n",
       "0  datingoverthirty  [removed]     t2_97llln5h       0   \n",
       "1  datingoverthirty  [removed]     t2_hineyex2       0   \n",
       "\n",
       "                                               title link_flair_richtext  \\\n",
       "0                     why is dating so fucking hard?                  []   \n",
       "1  Trust Issues making me (30f) anxious around my...                  []   \n",
       "\n",
       "  subreddit_name_prefixed  hidden  pwls link_flair_css_class  ... media  \\\n",
       "0      r/datingoverthirty   False     6                 None  ...  None   \n",
       "1      r/datingoverthirty   False     6                 None  ...  None   \n",
       "\n",
       "  is_video  retrieved_utc  updated_utc     utc_datetime_str  \\\n",
       "0    False     1678102482   1678102483  2023-03-06 11:34:28   \n",
       "1    False     1678088068   1678088069  2023-03-06 07:34:13   \n",
       "\n",
       "   link_flair_template_id post_hint preview  author_cakeday edited_on  \n",
       "0                     NaN       NaN     NaN             NaN       NaN  \n",
       "1                     NaN       NaN     NaN             NaN       NaN  \n",
       "\n",
       "[2 rows x 91 columns]"
      ]
     },
     "execution_count": 13,
     "metadata": {},
     "output_type": "execute_result"
    }
   ],
   "source": [
    "#Converting to a DataFrame\n",
    "df1 = pd.DataFrame(over30)\n",
    "df1.head(2)"
   ]
  },
  {
   "cell_type": "code",
   "execution_count": 14,
   "id": "04c0ad96",
   "metadata": {},
   "outputs": [
    {
     "data": {
      "text/plain": [
       "(8057, 91)"
      ]
     },
     "execution_count": 14,
     "metadata": {},
     "output_type": "execute_result"
    }
   ],
   "source": [
    "#It appears that there is lot of data in selftext column that was\n",
    "#removed by reddit moderators or by auto filtering\n",
    "df1[df1.selftext == '[removed]'].shape"
   ]
  },
  {
   "cell_type": "code",
   "execution_count": 15,
   "id": "e579ff7b",
   "metadata": {},
   "outputs": [
    {
     "data": {
      "text/plain": [
       "(8237, 91)"
      ]
     },
     "execution_count": 15,
     "metadata": {},
     "output_type": "execute_result"
    }
   ],
   "source": [
    "df1.shape"
   ]
  },
  {
   "cell_type": "code",
   "execution_count": 16,
   "id": "63def0bc",
   "metadata": {},
   "outputs": [
    {
     "data": {
      "text/plain": [
       "automod_filtered    7816\n",
       "reddit               110\n",
       "moderator             77\n",
       "deleted               50\n",
       "Name: removed_by_category, dtype: int64"
      ]
     },
     "execution_count": 16,
     "metadata": {},
     "output_type": "execute_result"
    }
   ],
   "source": [
    "df1['removed_by_category'].value_counts()"
   ]
  },
  {
   "cell_type": "markdown",
   "id": "c28222d6",
   "metadata": {},
   "source": [
    "#### About 8053 rows were removed from selftext column in over30 dataframe, so I decided to classify based on title column"
   ]
  },
  {
   "cell_type": "markdown",
   "id": "d883901b",
   "metadata": {},
   "source": [
    "#### Now Extracting data from datingover40"
   ]
  },
  {
   "cell_type": "code",
   "execution_count": 17,
   "id": "6edafa71",
   "metadata": {},
   "outputs": [
    {
     "name": "stdout",
     "output_type": "stream",
     "text": [
      "Status Code 200\n",
      "Length 1000\n"
     ]
    }
   ],
   "source": [
    "# extracting posts from dating over 40\n",
    "new_params = {\n",
    "    'subreddit' : 'datingoverforty',\n",
    "    'size' : 1000\n",
    "}\n",
    "new_res = requests.get(url, new_params)\n",
    "new_data = new_res.json()\n",
    "print(f'Status Code {new_res.status_code}')\n",
    "new_posts = new_data['data']\n",
    "print(f'Length {len(new_posts)}')"
   ]
  },
  {
   "cell_type": "code",
   "execution_count": 18,
   "id": "7c1af5ad",
   "metadata": {},
   "outputs": [
    {
     "name": "stdout",
     "output_type": "stream",
     "text": [
      "Status Code 200\n",
      "Length 1000\n"
     ]
    }
   ],
   "source": [
    "# extracting posts from dating over 40\n",
    "new_params1 = {\n",
    "    'subreddit' : 'datingoverforty',\n",
    "    'size' : 1000,\n",
    "    'before': 1674081061\n",
    "}\n",
    "new_res1 = requests.get(url, new_params1)\n",
    "new_data1 = new_res1.json()\n",
    "print(f'Status Code {new_res1.status_code}')\n",
    "new_posts1 = new_data1['data']\n",
    "print(f'Length {len(new_posts1)}')"
   ]
  },
  {
   "cell_type": "code",
   "execution_count": 19,
   "id": "46c8b517",
   "metadata": {},
   "outputs": [
    {
     "name": "stdout",
     "output_type": "stream",
     "text": [
      "Status Code 200\n",
      "Length 727\n"
     ]
    }
   ],
   "source": [
    "# extracting posts from dating over 40\n",
    "new_params2 = {\n",
    "    'subreddit' : 'datingoverforty',\n",
    "    'size' : 1000,\n",
    "    'before': 1670170700\n",
    "}\n",
    "new_res2 = requests.get(url, new_params2)\n",
    "new_data2 = new_res2.json()\n",
    "print(f'Status Code {new_res2.status_code}')\n",
    "new_posts2 = new_data2['data']\n",
    "print(f'Length {len(new_posts2)}')"
   ]
  },
  {
   "cell_type": "code",
   "execution_count": 20,
   "id": "33bbddb2",
   "metadata": {},
   "outputs": [
    {
     "name": "stdout",
     "output_type": "stream",
     "text": [
      "Status Code 200\n",
      "Length 942\n"
     ]
    }
   ],
   "source": [
    "# extracting posts from dating over 40\n",
    "new_params3 = {\n",
    "    'subreddit' : 'datingoverforty',\n",
    "    'size' : 1000,\n",
    "    'after': 1674490939\n",
    "}\n",
    "new_res3 = requests.get(url, new_params3)\n",
    "new_data3 = new_res3.json()\n",
    "print(f'Status Code {new_res3.status_code}')\n",
    "new_posts3 = new_data3['data']\n",
    "print(f'Length {len(new_posts3)}')"
   ]
  },
  {
   "cell_type": "code",
   "execution_count": 21,
   "id": "a13fdb80",
   "metadata": {},
   "outputs": [
    {
     "name": "stdout",
     "output_type": "stream",
     "text": [
      "Status Code 200\n",
      "Length 941\n"
     ]
    }
   ],
   "source": [
    "# extracting posts from dating over 40\n",
    "new_params4 = {\n",
    "    'subreddit' : 'datingoverforty',\n",
    "    'size' : 1000,\n",
    "    'after': 1674493303\n",
    "}\n",
    "new_res4 = requests.get(url, new_params4)\n",
    "new_data4 = new_res4.json()\n",
    "print(f'Status Code {new_res4.status_code}')\n",
    "new_posts4 = new_data4['data']\n",
    "print(f'Length {len(new_posts4)}')"
   ]
  },
  {
   "cell_type": "code",
   "execution_count": 22,
   "id": "53061b35",
   "metadata": {},
   "outputs": [
    {
     "name": "stdout",
     "output_type": "stream",
     "text": [
      "Status Code 200\n",
      "Length 940\n"
     ]
    }
   ],
   "source": [
    "# extracting posts from dating over 40\n",
    "new_params5 = {\n",
    "    'subreddit' : 'datingoverforty',\n",
    "    'size' : 1000,\n",
    "    'after': 1674494449\n",
    "}\n",
    "new_res5 = requests.get(url, new_params5)\n",
    "new_data5 = new_res5.json()\n",
    "print(f'Status Code {new_res5.status_code}')\n",
    "new_posts5 = new_data5['data']\n",
    "print(f'Length {len(new_posts5)}')"
   ]
  },
  {
   "cell_type": "code",
   "execution_count": 23,
   "id": "94b427be",
   "metadata": {},
   "outputs": [
    {
     "name": "stdout",
     "output_type": "stream",
     "text": [
      "Status Code 200\n",
      "Length 939\n"
     ]
    }
   ],
   "source": [
    "# extracting posts from dating over 40\n",
    "new_params6 = {\n",
    "    'subreddit' : 'datingoverforty',\n",
    "    'size' : 1000,\n",
    "    'after': 1674494797\n",
    "}\n",
    "new_res6 = requests.get(url, new_params6)\n",
    "new_data6 = new_res6.json()\n",
    "print(f'Status Code {new_res6.status_code}')\n",
    "new_posts6 = new_data6['data']\n",
    "print(f'Length {len(new_posts6)}')"
   ]
  },
  {
   "cell_type": "code",
   "execution_count": 24,
   "id": "51ff9ab7",
   "metadata": {},
   "outputs": [
    {
     "name": "stdout",
     "output_type": "stream",
     "text": [
      "Status Code 200\n",
      "Length 938\n"
     ]
    }
   ],
   "source": [
    "# extracting posts from dating over 40\n",
    "new_params7 = {\n",
    "    'subreddit' : 'datingoverforty',\n",
    "    'size' : 1000,\n",
    "    'after': 1674497635\n",
    "}\n",
    "new_res7 = requests.get(url, new_params7)\n",
    "new_data7 = new_res7.json()\n",
    "print(f'Status Code {new_res7.status_code}')\n",
    "new_posts7 = new_data7['data']\n",
    "print(f'Length {len(new_posts7)}')"
   ]
  },
  {
   "cell_type": "code",
   "execution_count": 25,
   "id": "7a3d5c5a",
   "metadata": {},
   "outputs": [
    {
     "name": "stdout",
     "output_type": "stream",
     "text": [
      "Status Code 200\n",
      "Length 937\n"
     ]
    }
   ],
   "source": [
    "# extracting posts from dating over 40\n",
    "new_params8 = {\n",
    "    'subreddit' : 'datingoverforty',\n",
    "    'size' : 1000,\n",
    "    'after': 1674502896\n",
    "}\n",
    "new_res8 = requests.get(url, new_params8)\n",
    "new_data8 = new_res8.json()\n",
    "print(f'Status Code {new_res8.status_code}')\n",
    "new_posts8 = new_data8['data']\n",
    "print(f'Length {len(new_posts8)}')"
   ]
  },
  {
   "cell_type": "code",
   "execution_count": 26,
   "id": "d48a238c",
   "metadata": {},
   "outputs": [],
   "source": [
    "#Combining the data\n",
    "over40 = new_posts+new_posts1+new_posts2+new_posts3+new_posts4+new_posts5+new_posts6+new_posts7+posts8"
   ]
  },
  {
   "cell_type": "code",
   "execution_count": 27,
   "id": "1a599b76",
   "metadata": {},
   "outputs": [],
   "source": [
    "#Converting to a DataFrame\n",
    "df2 = pd.DataFrame(over40)"
   ]
  },
  {
   "cell_type": "code",
   "execution_count": 28,
   "id": "f941ad5b",
   "metadata": {},
   "outputs": [
    {
     "data": {
      "text/plain": [
       "(8425, 91)"
      ]
     },
     "execution_count": 28,
     "metadata": {},
     "output_type": "execute_result"
    }
   ],
   "source": [
    "#Checking the shape\n",
    "df2.shape"
   ]
  },
  {
   "cell_type": "code",
   "execution_count": 29,
   "id": "117709c9",
   "metadata": {},
   "outputs": [
    {
     "data": {
      "text/html": [
       "<div>\n",
       "<style scoped>\n",
       "    .dataframe tbody tr th:only-of-type {\n",
       "        vertical-align: middle;\n",
       "    }\n",
       "\n",
       "    .dataframe tbody tr th {\n",
       "        vertical-align: top;\n",
       "    }\n",
       "\n",
       "    .dataframe thead th {\n",
       "        text-align: right;\n",
       "    }\n",
       "</style>\n",
       "<table border=\"1\" class=\"dataframe\">\n",
       "  <thead>\n",
       "    <tr style=\"text-align: right;\">\n",
       "      <th></th>\n",
       "      <th>subreddit</th>\n",
       "      <th>selftext</th>\n",
       "      <th>author_fullname</th>\n",
       "      <th>gilded</th>\n",
       "      <th>title</th>\n",
       "      <th>link_flair_richtext</th>\n",
       "      <th>subreddit_name_prefixed</th>\n",
       "      <th>hidden</th>\n",
       "      <th>pwls</th>\n",
       "      <th>link_flair_css_class</th>\n",
       "      <th>...</th>\n",
       "      <th>created_utc</th>\n",
       "      <th>num_crossposts</th>\n",
       "      <th>media</th>\n",
       "      <th>is_video</th>\n",
       "      <th>retrieved_utc</th>\n",
       "      <th>updated_utc</th>\n",
       "      <th>utc_datetime_str</th>\n",
       "      <th>link_flair_template_id</th>\n",
       "      <th>edited_on</th>\n",
       "      <th>author_cakeday</th>\n",
       "    </tr>\n",
       "  </thead>\n",
       "  <tbody>\n",
       "    <tr>\n",
       "      <th>0</th>\n",
       "      <td>datingoverforty</td>\n",
       "      <td>Eight months ago, I posted my Bumble success s...</td>\n",
       "      <td>t2_ti83g</td>\n",
       "      <td>0</td>\n",
       "      <td>Online Dating Safety Guide Inspired by the Sub</td>\n",
       "      <td>[]</td>\n",
       "      <td>r/datingoverforty</td>\n",
       "      <td>False</td>\n",
       "      <td>7</td>\n",
       "      <td>None</td>\n",
       "      <td>...</td>\n",
       "      <td>1678103044</td>\n",
       "      <td>0</td>\n",
       "      <td>None</td>\n",
       "      <td>False</td>\n",
       "      <td>1678103055</td>\n",
       "      <td>1678103056</td>\n",
       "      <td>2023-03-06 11:44:04</td>\n",
       "      <td>NaN</td>\n",
       "      <td>NaN</td>\n",
       "      <td>NaN</td>\n",
       "    </tr>\n",
       "    <tr>\n",
       "      <th>1</th>\n",
       "      <td>datingoverforty</td>\n",
       "      <td>Well it happened again, guys.  Got broken up w...</td>\n",
       "      <td>t2_lcjkqavj</td>\n",
       "      <td>0</td>\n",
       "      <td>Had my heart broken again around the same time...</td>\n",
       "      <td>[]</td>\n",
       "      <td>r/datingoverforty</td>\n",
       "      <td>False</td>\n",
       "      <td>7</td>\n",
       "      <td></td>\n",
       "      <td>...</td>\n",
       "      <td>1678097458</td>\n",
       "      <td>0</td>\n",
       "      <td>None</td>\n",
       "      <td>False</td>\n",
       "      <td>1678097469</td>\n",
       "      <td>1678097470</td>\n",
       "      <td>2023-03-06 10:10:58</td>\n",
       "      <td>628375fa-4425-11e9-9805-0e7c3aad8200</td>\n",
       "      <td>NaN</td>\n",
       "      <td>NaN</td>\n",
       "    </tr>\n",
       "  </tbody>\n",
       "</table>\n",
       "<p>2 rows × 91 columns</p>\n",
       "</div>"
      ],
      "text/plain": [
       "         subreddit                                           selftext  \\\n",
       "0  datingoverforty  Eight months ago, I posted my Bumble success s...   \n",
       "1  datingoverforty  Well it happened again, guys.  Got broken up w...   \n",
       "\n",
       "  author_fullname  gilded                                              title  \\\n",
       "0        t2_ti83g       0     Online Dating Safety Guide Inspired by the Sub   \n",
       "1     t2_lcjkqavj       0  Had my heart broken again around the same time...   \n",
       "\n",
       "  link_flair_richtext subreddit_name_prefixed  hidden  pwls  \\\n",
       "0                  []       r/datingoverforty   False     7   \n",
       "1                  []       r/datingoverforty   False     7   \n",
       "\n",
       "  link_flair_css_class  ... created_utc num_crossposts  media  is_video  \\\n",
       "0                 None  ...  1678103044              0   None     False   \n",
       "1                       ...  1678097458              0   None     False   \n",
       "\n",
       "  retrieved_utc  updated_utc     utc_datetime_str  \\\n",
       "0    1678103055   1678103056  2023-03-06 11:44:04   \n",
       "1    1678097469   1678097470  2023-03-06 10:10:58   \n",
       "\n",
       "                 link_flair_template_id  edited_on author_cakeday  \n",
       "0                                   NaN        NaN            NaN  \n",
       "1  628375fa-4425-11e9-9805-0e7c3aad8200        NaN            NaN  \n",
       "\n",
       "[2 rows x 91 columns]"
      ]
     },
     "execution_count": 29,
     "metadata": {},
     "output_type": "execute_result"
    }
   ],
   "source": [
    "#Checking first few rows\n",
    "df2.head(2)"
   ]
  },
  {
   "cell_type": "code",
   "execution_count": 30,
   "id": "10a2e0af",
   "metadata": {},
   "outputs": [
    {
     "data": {
      "text/plain": [
       "(1864, 91)"
      ]
     },
     "execution_count": 30,
     "metadata": {},
     "output_type": "execute_result"
    }
   ],
   "source": [
    "#Less Data was removed from over40 selftext column\n",
    "df2[df2.selftext == '[removed]'].shape"
   ]
  },
  {
   "cell_type": "code",
   "execution_count": 31,
   "id": "7d4ffc0a",
   "metadata": {},
   "outputs": [
    {
     "data": {
      "text/plain": [
       "(8237, 91)"
      ]
     },
     "execution_count": 31,
     "metadata": {},
     "output_type": "execute_result"
    }
   ],
   "source": [
    "df1.shape"
   ]
  },
  {
   "cell_type": "code",
   "execution_count": 32,
   "id": "ebcff464",
   "metadata": {},
   "outputs": [],
   "source": [
    "#Concatenating our subreddits into one DataFrame\n",
    "df3 = pd.concat([df1, df2])"
   ]
  },
  {
   "cell_type": "code",
   "execution_count": 33,
   "id": "50f9aac5",
   "metadata": {},
   "outputs": [
    {
     "data": {
      "text/plain": [
       "(16662, 91)"
      ]
     },
     "execution_count": 33,
     "metadata": {},
     "output_type": "execute_result"
    }
   ],
   "source": [
    "#Checking the shape after concatenating over30 and over 40\n",
    "df3.shape"
   ]
  },
  {
   "cell_type": "code",
   "execution_count": 34,
   "id": "22de5f13",
   "metadata": {},
   "outputs": [
    {
     "data": {
      "text/plain": [
       "(9921, 91)"
      ]
     },
     "execution_count": 34,
     "metadata": {},
     "output_type": "execute_result"
    }
   ],
   "source": [
    "df3[df3['selftext'] == '[removed]'].shape"
   ]
  },
  {
   "cell_type": "code",
   "execution_count": 35,
   "id": "a41dc51a",
   "metadata": {},
   "outputs": [
    {
     "data": {
      "text/plain": [
       "(16662, 91)"
      ]
     },
     "execution_count": 35,
     "metadata": {},
     "output_type": "execute_result"
    }
   ],
   "source": [
    "df3.shape"
   ]
  },
  {
   "cell_type": "code",
   "execution_count": 38,
   "id": "e1a95a94",
   "metadata": {},
   "outputs": [
    {
     "data": {
      "text/plain": [
       "automod_filtered    8759\n",
       "reddit               552\n",
       "moderator            529\n",
       "deleted               83\n",
       "Name: removed_by_category, dtype: int64"
      ]
     },
     "execution_count": 38,
     "metadata": {},
     "output_type": "execute_result"
    }
   ],
   "source": [
    "df3['removed_by_category'].value_counts()"
   ]
  },
  {
   "cell_type": "markdown",
   "id": "3d43e823",
   "metadata": {},
   "source": [
    "#### Out of 16527 rows in the concatenated dataframe it looks like 9919 rows were removed that is missing from the selftext column, by looking closely from the above value counts they were removed by automatic filtration or reddit or moderator or deleted for some reason. We will try to classify the class using title column"
   ]
  },
  {
   "cell_type": "code",
   "execution_count": 37,
   "id": "d874711b",
   "metadata": {},
   "outputs": [],
   "source": [
    "df3.to_csv('data/cleaned.csv')"
   ]
  }
 ],
 "metadata": {
  "kernelspec": {
   "display_name": "Python 3 (ipykernel)",
   "language": "python",
   "name": "python3"
  },
  "language_info": {
   "codemirror_mode": {
    "name": "ipython",
    "version": 3
   },
   "file_extension": ".py",
   "mimetype": "text/x-python",
   "name": "python",
   "nbconvert_exporter": "python",
   "pygments_lexer": "ipython3",
   "version": "3.9.13"
  }
 },
 "nbformat": 4,
 "nbformat_minor": 5
}
